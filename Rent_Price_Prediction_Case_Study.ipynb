{
  "nbformat": 4,
  "nbformat_minor": 0,
  "metadata": {
    "colab": {
      "provenance": []
    },
    "kernelspec": {
      "name": "python3",
      "display_name": "Python 3"
    },
    "language_info": {
      "name": "python"
    }
  },
  "cells": [
    {
      "cell_type": "markdown",
      "source": [
        "# Rent Price Prediction Case Study\n",
        "\n",
        "  'Kaizen Property Solutions' is an innovative firm focused on providing data-driven insights for rental property management and investment. The company aims to enhance the rental decision-making process for landlords, tenants, and real estate investors through advanced analytical solutions.\n",
        "  \n",
        "Business Challenge:\n",
        "    \n",
        "  - In the dynamic rental market of Pune and Mumbai, accurately predicting rental prices is crucial for maximizing occupancy rates and optimizing rental income. However, property managers and landlords often face challenges in estimating rental prices due to various influencing factors, including property characteristics, location, and local market trends specific to these metropolitan areas.\n",
        "\n",
        "\n",
        "\n",
        "\n",
        "\n",
        "Objective:\n",
        "  - To tackle this challenge, 'Kaizen Property Solutions' is conducting a machine learning case study aimed at developing a predictive model for estimating rental prices based on a comprehensive dataset that includes the following features: house_type, house_size, location, city (specifically Pune and Mumbai), latitude, longitude, price, currency, numBathrooms, numBalconies, isNegotiable, priceSqFt, verificationDate, description, SecurityDeposit, and Status.\n"
      ],
      "metadata": {
        "id": "q2PdY6TCcdBr"
      }
    },
    {
      "cell_type": "code",
      "source": [
        "import pandas as pd\n",
        "import numpy as np\n",
        "pune=pd.read_csv('/content/Indian_housing_Pune_data.csv')\n",
        "mumbai=pd.read_csv('/content/Indian_housing_Mumbai_data.csv')"
      ],
      "metadata": {
        "id": "SmOryv6_dMGB"
      },
      "execution_count": null,
      "outputs": []
    },
    {
      "cell_type": "code",
      "source": [
        "pune"
      ],
      "metadata": {
        "colab": {
          "base_uri": "https://localhost:8080/",
          "height": 1000
        },
        "id": "69o8mjmVIVcU",
        "outputId": "554636f0-01df-4caf-ec2d-a57181b58f8f"
      },
      "execution_count": null,
      "outputs": [
        {
          "output_type": "execute_result",
          "data": {
            "text/plain": [
              "                    house_type   house_size         location  city   latitude  \\\n",
              "0             2 BHK Apartment     906 sq ft         Lohegaon  Pune  18.605820   \n",
              "1             1 BHK Apartment     650 sq ft      Anand Nagar  Pune  18.474377   \n",
              "2       1 RK Studio Apartment     350 sq ft          Wagholi  Pune  18.580336   \n",
              "3             3 BHK Apartment   1,500 sq ft       Sangamvadi  Pune  18.541786   \n",
              "4     5 BHK Independent House   5,000 sq ft    Wadgaon Sheri  Pune  18.560164   \n",
              "...                        ...          ...              ...   ...        ...   \n",
              "3905          1 BHK Apartment     655 sq ft            Wakad  Pune  18.603699   \n",
              "3906          2 BHK Apartment     920 sq ft  Pimple Saudagar  Pune  18.594870   \n",
              "3907          1 BHK Apartment     650 sq ft  Pimple Saudagar  Pune  18.595701   \n",
              "3908          2 BHK Apartment   1,200 sq ft  Pimple Saudagar  Pune  18.592476   \n",
              "3909          2 BHK Apartment     933 sq ft         Rahatani  Pune  18.600847   \n",
              "\n",
              "      longitude   price currency  numBathrooms  numBalconies isNegotiable  \\\n",
              "0     73.912407   12000      INR           2.0           NaN          NaN   \n",
              "1     73.820549   11000      INR           1.0           NaN          NaN   \n",
              "2     73.980507    4500      INR           1.0           NaN          NaN   \n",
              "3     73.882454   35000      INR           2.0           NaN          NaN   \n",
              "4     73.924927  110000      INR           5.0           NaN          NaN   \n",
              "...         ...     ...      ...           ...           ...          ...   \n",
              "3905  73.761238   12500      INR           1.0           NaN          NaN   \n",
              "3906  73.798187   16000      INR           2.0           NaN          NaN   \n",
              "3907  73.797890   16000      INR           1.0           1.0          NaN   \n",
              "3908  73.798538   20000      INR           2.0           NaN          NaN   \n",
              "3909  73.789986   17500      INR           2.0           NaN          NaN   \n",
              "\n",
              "      priceSqFt    verificationDate  \\\n",
              "0           NaN  Posted 3 years ago   \n",
              "1           NaN  Posted 2 years ago   \n",
              "2           NaN  Posted 2 years ago   \n",
              "3           NaN  Posted 3 years ago   \n",
              "4           NaN  Posted 3 years ago   \n",
              "...         ...                 ...   \n",
              "3905        NaN  Posted 3 years ago   \n",
              "3906        NaN  Posted 3 years ago   \n",
              "3907        NaN  Posted 3 years ago   \n",
              "3908        NaN  Posted 3 years ago   \n",
              "3909        NaN  Posted 3 years ago   \n",
              "\n",
              "                                            description SecurityDeposit  \\\n",
              "0     A spacious 2 bhk multistorey apartment is avai...      No Deposit   \n",
              "1     It has a built-up area of 650 sqft and is avai...      No Deposit   \n",
              "2     This spacious 1 rk independent house is availa...      No Deposit   \n",
              "3     Furnishings include 1 tv, 1 refrigerator, 1 so...      No Deposit   \n",
              "4     Itâs a 5 bhk independent house situated in W...      No Deposit   \n",
              "...                                                 ...             ...   \n",
              "3905  Well designed 1 bhk multistorey apartment is a...          36,000   \n",
              "3906  Itâs a 2 bhk multistorey apartment situated ...          50,000   \n",
              "3907  A spacious 1 bhk multistorey apartment is avai...          35,000   \n",
              "3908  It has a built-up area of 1200 sqft and is ava...          60,000   \n",
              "3909  Itâs a 2 bhk multistorey apartment situated ...          50,000   \n",
              "\n",
              "              Status  \n",
              "0        Unfurnished  \n",
              "1     Semi-Furnished  \n",
              "2        Unfurnished  \n",
              "3          Furnished  \n",
              "4        Unfurnished  \n",
              "...              ...  \n",
              "3905     Unfurnished  \n",
              "3906     Unfurnished  \n",
              "3907       Furnished  \n",
              "3908       Furnished  \n",
              "3909     Unfurnished  \n",
              "\n",
              "[3910 rows x 16 columns]"
            ],
            "text/html": [
              "\n",
              "  <div id=\"df-80448e60-ef52-49d1-99f4-287646997c85\" class=\"colab-df-container\">\n",
              "    <div>\n",
              "<style scoped>\n",
              "    .dataframe tbody tr th:only-of-type {\n",
              "        vertical-align: middle;\n",
              "    }\n",
              "\n",
              "    .dataframe tbody tr th {\n",
              "        vertical-align: top;\n",
              "    }\n",
              "\n",
              "    .dataframe thead th {\n",
              "        text-align: right;\n",
              "    }\n",
              "</style>\n",
              "<table border=\"1\" class=\"dataframe\">\n",
              "  <thead>\n",
              "    <tr style=\"text-align: right;\">\n",
              "      <th></th>\n",
              "      <th>house_type</th>\n",
              "      <th>house_size</th>\n",
              "      <th>location</th>\n",
              "      <th>city</th>\n",
              "      <th>latitude</th>\n",
              "      <th>longitude</th>\n",
              "      <th>price</th>\n",
              "      <th>currency</th>\n",
              "      <th>numBathrooms</th>\n",
              "      <th>numBalconies</th>\n",
              "      <th>isNegotiable</th>\n",
              "      <th>priceSqFt</th>\n",
              "      <th>verificationDate</th>\n",
              "      <th>description</th>\n",
              "      <th>SecurityDeposit</th>\n",
              "      <th>Status</th>\n",
              "    </tr>\n",
              "  </thead>\n",
              "  <tbody>\n",
              "    <tr>\n",
              "      <th>0</th>\n",
              "      <td>2 BHK Apartment</td>\n",
              "      <td>906 sq ft</td>\n",
              "      <td>Lohegaon</td>\n",
              "      <td>Pune</td>\n",
              "      <td>18.605820</td>\n",
              "      <td>73.912407</td>\n",
              "      <td>12000</td>\n",
              "      <td>INR</td>\n",
              "      <td>2.0</td>\n",
              "      <td>NaN</td>\n",
              "      <td>NaN</td>\n",
              "      <td>NaN</td>\n",
              "      <td>Posted 3 years ago</td>\n",
              "      <td>A spacious 2 bhk multistorey apartment is avai...</td>\n",
              "      <td>No Deposit</td>\n",
              "      <td>Unfurnished</td>\n",
              "    </tr>\n",
              "    <tr>\n",
              "      <th>1</th>\n",
              "      <td>1 BHK Apartment</td>\n",
              "      <td>650 sq ft</td>\n",
              "      <td>Anand Nagar</td>\n",
              "      <td>Pune</td>\n",
              "      <td>18.474377</td>\n",
              "      <td>73.820549</td>\n",
              "      <td>11000</td>\n",
              "      <td>INR</td>\n",
              "      <td>1.0</td>\n",
              "      <td>NaN</td>\n",
              "      <td>NaN</td>\n",
              "      <td>NaN</td>\n",
              "      <td>Posted 2 years ago</td>\n",
              "      <td>It has a built-up area of 650 sqft and is avai...</td>\n",
              "      <td>No Deposit</td>\n",
              "      <td>Semi-Furnished</td>\n",
              "    </tr>\n",
              "    <tr>\n",
              "      <th>2</th>\n",
              "      <td>1 RK Studio Apartment</td>\n",
              "      <td>350 sq ft</td>\n",
              "      <td>Wagholi</td>\n",
              "      <td>Pune</td>\n",
              "      <td>18.580336</td>\n",
              "      <td>73.980507</td>\n",
              "      <td>4500</td>\n",
              "      <td>INR</td>\n",
              "      <td>1.0</td>\n",
              "      <td>NaN</td>\n",
              "      <td>NaN</td>\n",
              "      <td>NaN</td>\n",
              "      <td>Posted 2 years ago</td>\n",
              "      <td>This spacious 1 rk independent house is availa...</td>\n",
              "      <td>No Deposit</td>\n",
              "      <td>Unfurnished</td>\n",
              "    </tr>\n",
              "    <tr>\n",
              "      <th>3</th>\n",
              "      <td>3 BHK Apartment</td>\n",
              "      <td>1,500 sq ft</td>\n",
              "      <td>Sangamvadi</td>\n",
              "      <td>Pune</td>\n",
              "      <td>18.541786</td>\n",
              "      <td>73.882454</td>\n",
              "      <td>35000</td>\n",
              "      <td>INR</td>\n",
              "      <td>2.0</td>\n",
              "      <td>NaN</td>\n",
              "      <td>NaN</td>\n",
              "      <td>NaN</td>\n",
              "      <td>Posted 3 years ago</td>\n",
              "      <td>Furnishings include 1 tv, 1 refrigerator, 1 so...</td>\n",
              "      <td>No Deposit</td>\n",
              "      <td>Furnished</td>\n",
              "    </tr>\n",
              "    <tr>\n",
              "      <th>4</th>\n",
              "      <td>5 BHK Independent House</td>\n",
              "      <td>5,000 sq ft</td>\n",
              "      <td>Wadgaon Sheri</td>\n",
              "      <td>Pune</td>\n",
              "      <td>18.560164</td>\n",
              "      <td>73.924927</td>\n",
              "      <td>110000</td>\n",
              "      <td>INR</td>\n",
              "      <td>5.0</td>\n",
              "      <td>NaN</td>\n",
              "      <td>NaN</td>\n",
              "      <td>NaN</td>\n",
              "      <td>Posted 3 years ago</td>\n",
              "      <td>Itâs a 5 bhk independent house situated in W...</td>\n",
              "      <td>No Deposit</td>\n",
              "      <td>Unfurnished</td>\n",
              "    </tr>\n",
              "    <tr>\n",
              "      <th>...</th>\n",
              "      <td>...</td>\n",
              "      <td>...</td>\n",
              "      <td>...</td>\n",
              "      <td>...</td>\n",
              "      <td>...</td>\n",
              "      <td>...</td>\n",
              "      <td>...</td>\n",
              "      <td>...</td>\n",
              "      <td>...</td>\n",
              "      <td>...</td>\n",
              "      <td>...</td>\n",
              "      <td>...</td>\n",
              "      <td>...</td>\n",
              "      <td>...</td>\n",
              "      <td>...</td>\n",
              "      <td>...</td>\n",
              "    </tr>\n",
              "    <tr>\n",
              "      <th>3905</th>\n",
              "      <td>1 BHK Apartment</td>\n",
              "      <td>655 sq ft</td>\n",
              "      <td>Wakad</td>\n",
              "      <td>Pune</td>\n",
              "      <td>18.603699</td>\n",
              "      <td>73.761238</td>\n",
              "      <td>12500</td>\n",
              "      <td>INR</td>\n",
              "      <td>1.0</td>\n",
              "      <td>NaN</td>\n",
              "      <td>NaN</td>\n",
              "      <td>NaN</td>\n",
              "      <td>Posted 3 years ago</td>\n",
              "      <td>Well designed 1 bhk multistorey apartment is a...</td>\n",
              "      <td>36,000</td>\n",
              "      <td>Unfurnished</td>\n",
              "    </tr>\n",
              "    <tr>\n",
              "      <th>3906</th>\n",
              "      <td>2 BHK Apartment</td>\n",
              "      <td>920 sq ft</td>\n",
              "      <td>Pimple Saudagar</td>\n",
              "      <td>Pune</td>\n",
              "      <td>18.594870</td>\n",
              "      <td>73.798187</td>\n",
              "      <td>16000</td>\n",
              "      <td>INR</td>\n",
              "      <td>2.0</td>\n",
              "      <td>NaN</td>\n",
              "      <td>NaN</td>\n",
              "      <td>NaN</td>\n",
              "      <td>Posted 3 years ago</td>\n",
              "      <td>Itâs a 2 bhk multistorey apartment situated ...</td>\n",
              "      <td>50,000</td>\n",
              "      <td>Unfurnished</td>\n",
              "    </tr>\n",
              "    <tr>\n",
              "      <th>3907</th>\n",
              "      <td>1 BHK Apartment</td>\n",
              "      <td>650 sq ft</td>\n",
              "      <td>Pimple Saudagar</td>\n",
              "      <td>Pune</td>\n",
              "      <td>18.595701</td>\n",
              "      <td>73.797890</td>\n",
              "      <td>16000</td>\n",
              "      <td>INR</td>\n",
              "      <td>1.0</td>\n",
              "      <td>1.0</td>\n",
              "      <td>NaN</td>\n",
              "      <td>NaN</td>\n",
              "      <td>Posted 3 years ago</td>\n",
              "      <td>A spacious 1 bhk multistorey apartment is avai...</td>\n",
              "      <td>35,000</td>\n",
              "      <td>Furnished</td>\n",
              "    </tr>\n",
              "    <tr>\n",
              "      <th>3908</th>\n",
              "      <td>2 BHK Apartment</td>\n",
              "      <td>1,200 sq ft</td>\n",
              "      <td>Pimple Saudagar</td>\n",
              "      <td>Pune</td>\n",
              "      <td>18.592476</td>\n",
              "      <td>73.798538</td>\n",
              "      <td>20000</td>\n",
              "      <td>INR</td>\n",
              "      <td>2.0</td>\n",
              "      <td>NaN</td>\n",
              "      <td>NaN</td>\n",
              "      <td>NaN</td>\n",
              "      <td>Posted 3 years ago</td>\n",
              "      <td>It has a built-up area of 1200 sqft and is ava...</td>\n",
              "      <td>60,000</td>\n",
              "      <td>Furnished</td>\n",
              "    </tr>\n",
              "    <tr>\n",
              "      <th>3909</th>\n",
              "      <td>2 BHK Apartment</td>\n",
              "      <td>933 sq ft</td>\n",
              "      <td>Rahatani</td>\n",
              "      <td>Pune</td>\n",
              "      <td>18.600847</td>\n",
              "      <td>73.789986</td>\n",
              "      <td>17500</td>\n",
              "      <td>INR</td>\n",
              "      <td>2.0</td>\n",
              "      <td>NaN</td>\n",
              "      <td>NaN</td>\n",
              "      <td>NaN</td>\n",
              "      <td>Posted 3 years ago</td>\n",
              "      <td>Itâs a 2 bhk multistorey apartment situated ...</td>\n",
              "      <td>50,000</td>\n",
              "      <td>Unfurnished</td>\n",
              "    </tr>\n",
              "  </tbody>\n",
              "</table>\n",
              "<p>3910 rows × 16 columns</p>\n",
              "</div>\n",
              "    <div class=\"colab-df-buttons\">\n",
              "\n",
              "  <div class=\"colab-df-container\">\n",
              "    <button class=\"colab-df-convert\" onclick=\"convertToInteractive('df-80448e60-ef52-49d1-99f4-287646997c85')\"\n",
              "            title=\"Convert this dataframe to an interactive table.\"\n",
              "            style=\"display:none;\">\n",
              "\n",
              "  <svg xmlns=\"http://www.w3.org/2000/svg\" height=\"24px\" viewBox=\"0 -960 960 960\">\n",
              "    <path d=\"M120-120v-720h720v720H120Zm60-500h600v-160H180v160Zm220 220h160v-160H400v160Zm0 220h160v-160H400v160ZM180-400h160v-160H180v160Zm440 0h160v-160H620v160ZM180-180h160v-160H180v160Zm440 0h160v-160H620v160Z\"/>\n",
              "  </svg>\n",
              "    </button>\n",
              "\n",
              "  <style>\n",
              "    .colab-df-container {\n",
              "      display:flex;\n",
              "      gap: 12px;\n",
              "    }\n",
              "\n",
              "    .colab-df-convert {\n",
              "      background-color: #E8F0FE;\n",
              "      border: none;\n",
              "      border-radius: 50%;\n",
              "      cursor: pointer;\n",
              "      display: none;\n",
              "      fill: #1967D2;\n",
              "      height: 32px;\n",
              "      padding: 0 0 0 0;\n",
              "      width: 32px;\n",
              "    }\n",
              "\n",
              "    .colab-df-convert:hover {\n",
              "      background-color: #E2EBFA;\n",
              "      box-shadow: 0px 1px 2px rgba(60, 64, 67, 0.3), 0px 1px 3px 1px rgba(60, 64, 67, 0.15);\n",
              "      fill: #174EA6;\n",
              "    }\n",
              "\n",
              "    .colab-df-buttons div {\n",
              "      margin-bottom: 4px;\n",
              "    }\n",
              "\n",
              "    [theme=dark] .colab-df-convert {\n",
              "      background-color: #3B4455;\n",
              "      fill: #D2E3FC;\n",
              "    }\n",
              "\n",
              "    [theme=dark] .colab-df-convert:hover {\n",
              "      background-color: #434B5C;\n",
              "      box-shadow: 0px 1px 3px 1px rgba(0, 0, 0, 0.15);\n",
              "      filter: drop-shadow(0px 1px 2px rgba(0, 0, 0, 0.3));\n",
              "      fill: #FFFFFF;\n",
              "    }\n",
              "  </style>\n",
              "\n",
              "    <script>\n",
              "      const buttonEl =\n",
              "        document.querySelector('#df-80448e60-ef52-49d1-99f4-287646997c85 button.colab-df-convert');\n",
              "      buttonEl.style.display =\n",
              "        google.colab.kernel.accessAllowed ? 'block' : 'none';\n",
              "\n",
              "      async function convertToInteractive(key) {\n",
              "        const element = document.querySelector('#df-80448e60-ef52-49d1-99f4-287646997c85');\n",
              "        const dataTable =\n",
              "          await google.colab.kernel.invokeFunction('convertToInteractive',\n",
              "                                                    [key], {});\n",
              "        if (!dataTable) return;\n",
              "\n",
              "        const docLinkHtml = 'Like what you see? Visit the ' +\n",
              "          '<a target=\"_blank\" href=https://colab.research.google.com/notebooks/data_table.ipynb>data table notebook</a>'\n",
              "          + ' to learn more about interactive tables.';\n",
              "        element.innerHTML = '';\n",
              "        dataTable['output_type'] = 'display_data';\n",
              "        await google.colab.output.renderOutput(dataTable, element);\n",
              "        const docLink = document.createElement('div');\n",
              "        docLink.innerHTML = docLinkHtml;\n",
              "        element.appendChild(docLink);\n",
              "      }\n",
              "    </script>\n",
              "  </div>\n",
              "\n",
              "\n",
              "<div id=\"df-987c3565-2fc3-4789-af1c-9aefd76796bd\">\n",
              "  <button class=\"colab-df-quickchart\" onclick=\"quickchart('df-987c3565-2fc3-4789-af1c-9aefd76796bd')\"\n",
              "            title=\"Suggest charts\"\n",
              "            style=\"display:none;\">\n",
              "\n",
              "<svg xmlns=\"http://www.w3.org/2000/svg\" height=\"24px\"viewBox=\"0 0 24 24\"\n",
              "     width=\"24px\">\n",
              "    <g>\n",
              "        <path d=\"M19 3H5c-1.1 0-2 .9-2 2v14c0 1.1.9 2 2 2h14c1.1 0 2-.9 2-2V5c0-1.1-.9-2-2-2zM9 17H7v-7h2v7zm4 0h-2V7h2v10zm4 0h-2v-4h2v4z\"/>\n",
              "    </g>\n",
              "</svg>\n",
              "  </button>\n",
              "\n",
              "<style>\n",
              "  .colab-df-quickchart {\n",
              "      --bg-color: #E8F0FE;\n",
              "      --fill-color: #1967D2;\n",
              "      --hover-bg-color: #E2EBFA;\n",
              "      --hover-fill-color: #174EA6;\n",
              "      --disabled-fill-color: #AAA;\n",
              "      --disabled-bg-color: #DDD;\n",
              "  }\n",
              "\n",
              "  [theme=dark] .colab-df-quickchart {\n",
              "      --bg-color: #3B4455;\n",
              "      --fill-color: #D2E3FC;\n",
              "      --hover-bg-color: #434B5C;\n",
              "      --hover-fill-color: #FFFFFF;\n",
              "      --disabled-bg-color: #3B4455;\n",
              "      --disabled-fill-color: #666;\n",
              "  }\n",
              "\n",
              "  .colab-df-quickchart {\n",
              "    background-color: var(--bg-color);\n",
              "    border: none;\n",
              "    border-radius: 50%;\n",
              "    cursor: pointer;\n",
              "    display: none;\n",
              "    fill: var(--fill-color);\n",
              "    height: 32px;\n",
              "    padding: 0;\n",
              "    width: 32px;\n",
              "  }\n",
              "\n",
              "  .colab-df-quickchart:hover {\n",
              "    background-color: var(--hover-bg-color);\n",
              "    box-shadow: 0 1px 2px rgba(60, 64, 67, 0.3), 0 1px 3px 1px rgba(60, 64, 67, 0.15);\n",
              "    fill: var(--button-hover-fill-color);\n",
              "  }\n",
              "\n",
              "  .colab-df-quickchart-complete:disabled,\n",
              "  .colab-df-quickchart-complete:disabled:hover {\n",
              "    background-color: var(--disabled-bg-color);\n",
              "    fill: var(--disabled-fill-color);\n",
              "    box-shadow: none;\n",
              "  }\n",
              "\n",
              "  .colab-df-spinner {\n",
              "    border: 2px solid var(--fill-color);\n",
              "    border-color: transparent;\n",
              "    border-bottom-color: var(--fill-color);\n",
              "    animation:\n",
              "      spin 1s steps(1) infinite;\n",
              "  }\n",
              "\n",
              "  @keyframes spin {\n",
              "    0% {\n",
              "      border-color: transparent;\n",
              "      border-bottom-color: var(--fill-color);\n",
              "      border-left-color: var(--fill-color);\n",
              "    }\n",
              "    20% {\n",
              "      border-color: transparent;\n",
              "      border-left-color: var(--fill-color);\n",
              "      border-top-color: var(--fill-color);\n",
              "    }\n",
              "    30% {\n",
              "      border-color: transparent;\n",
              "      border-left-color: var(--fill-color);\n",
              "      border-top-color: var(--fill-color);\n",
              "      border-right-color: var(--fill-color);\n",
              "    }\n",
              "    40% {\n",
              "      border-color: transparent;\n",
              "      border-right-color: var(--fill-color);\n",
              "      border-top-color: var(--fill-color);\n",
              "    }\n",
              "    60% {\n",
              "      border-color: transparent;\n",
              "      border-right-color: var(--fill-color);\n",
              "    }\n",
              "    80% {\n",
              "      border-color: transparent;\n",
              "      border-right-color: var(--fill-color);\n",
              "      border-bottom-color: var(--fill-color);\n",
              "    }\n",
              "    90% {\n",
              "      border-color: transparent;\n",
              "      border-bottom-color: var(--fill-color);\n",
              "    }\n",
              "  }\n",
              "</style>\n",
              "\n",
              "  <script>\n",
              "    async function quickchart(key) {\n",
              "      const quickchartButtonEl =\n",
              "        document.querySelector('#' + key + ' button');\n",
              "      quickchartButtonEl.disabled = true;  // To prevent multiple clicks.\n",
              "      quickchartButtonEl.classList.add('colab-df-spinner');\n",
              "      try {\n",
              "        const charts = await google.colab.kernel.invokeFunction(\n",
              "            'suggestCharts', [key], {});\n",
              "      } catch (error) {\n",
              "        console.error('Error during call to suggestCharts:', error);\n",
              "      }\n",
              "      quickchartButtonEl.classList.remove('colab-df-spinner');\n",
              "      quickchartButtonEl.classList.add('colab-df-quickchart-complete');\n",
              "    }\n",
              "    (() => {\n",
              "      let quickchartButtonEl =\n",
              "        document.querySelector('#df-987c3565-2fc3-4789-af1c-9aefd76796bd button');\n",
              "      quickchartButtonEl.style.display =\n",
              "        google.colab.kernel.accessAllowed ? 'block' : 'none';\n",
              "    })();\n",
              "  </script>\n",
              "</div>\n",
              "\n",
              "  <div id=\"id_1ad19422-bfd5-4aa0-9de3-f473bf58c97c\">\n",
              "    <style>\n",
              "      .colab-df-generate {\n",
              "        background-color: #E8F0FE;\n",
              "        border: none;\n",
              "        border-radius: 50%;\n",
              "        cursor: pointer;\n",
              "        display: none;\n",
              "        fill: #1967D2;\n",
              "        height: 32px;\n",
              "        padding: 0 0 0 0;\n",
              "        width: 32px;\n",
              "      }\n",
              "\n",
              "      .colab-df-generate:hover {\n",
              "        background-color: #E2EBFA;\n",
              "        box-shadow: 0px 1px 2px rgba(60, 64, 67, 0.3), 0px 1px 3px 1px rgba(60, 64, 67, 0.15);\n",
              "        fill: #174EA6;\n",
              "      }\n",
              "\n",
              "      [theme=dark] .colab-df-generate {\n",
              "        background-color: #3B4455;\n",
              "        fill: #D2E3FC;\n",
              "      }\n",
              "\n",
              "      [theme=dark] .colab-df-generate:hover {\n",
              "        background-color: #434B5C;\n",
              "        box-shadow: 0px 1px 3px 1px rgba(0, 0, 0, 0.15);\n",
              "        filter: drop-shadow(0px 1px 2px rgba(0, 0, 0, 0.3));\n",
              "        fill: #FFFFFF;\n",
              "      }\n",
              "    </style>\n",
              "    <button class=\"colab-df-generate\" onclick=\"generateWithVariable('pune')\"\n",
              "            title=\"Generate code using this dataframe.\"\n",
              "            style=\"display:none;\">\n",
              "\n",
              "  <svg xmlns=\"http://www.w3.org/2000/svg\" height=\"24px\"viewBox=\"0 0 24 24\"\n",
              "       width=\"24px\">\n",
              "    <path d=\"M7,19H8.4L18.45,9,17,7.55,7,17.6ZM5,21V16.75L18.45,3.32a2,2,0,0,1,2.83,0l1.4,1.43a1.91,1.91,0,0,1,.58,1.4,1.91,1.91,0,0,1-.58,1.4L9.25,21ZM18.45,9,17,7.55Zm-12,3A5.31,5.31,0,0,0,4.9,8.1,5.31,5.31,0,0,0,1,6.5,5.31,5.31,0,0,0,4.9,4.9,5.31,5.31,0,0,0,6.5,1,5.31,5.31,0,0,0,8.1,4.9,5.31,5.31,0,0,0,12,6.5,5.46,5.46,0,0,0,6.5,12Z\"/>\n",
              "  </svg>\n",
              "    </button>\n",
              "    <script>\n",
              "      (() => {\n",
              "      const buttonEl =\n",
              "        document.querySelector('#id_1ad19422-bfd5-4aa0-9de3-f473bf58c97c button.colab-df-generate');\n",
              "      buttonEl.style.display =\n",
              "        google.colab.kernel.accessAllowed ? 'block' : 'none';\n",
              "\n",
              "      buttonEl.onclick = () => {\n",
              "        google.colab.notebook.generateWithVariable('pune');\n",
              "      }\n",
              "      })();\n",
              "    </script>\n",
              "  </div>\n",
              "\n",
              "    </div>\n",
              "  </div>\n"
            ],
            "application/vnd.google.colaboratory.intrinsic+json": {
              "type": "dataframe",
              "variable_name": "pune",
              "summary": "{\n  \"name\": \"pune\",\n  \"rows\": 3910,\n  \"fields\": [\n    {\n      \"column\": \"house_type\",\n      \"properties\": {\n        \"dtype\": \"category\",\n        \"num_unique_values\": 22,\n        \"samples\": [\n          \"2 BHK Apartment \",\n          \"4 BHK Independent House \",\n          \"4 BHK Apartment \"\n        ],\n        \"semantic_type\": \"\",\n        \"description\": \"\"\n      }\n    },\n    {\n      \"column\": \"house_size\",\n      \"properties\": {\n        \"dtype\": \"category\",\n        \"num_unique_values\": 681,\n        \"samples\": [\n          \"715 sq ft\",\n          \"775 sq ft\",\n          \"935 sq ft\"\n        ],\n        \"semantic_type\": \"\",\n        \"description\": \"\"\n      }\n    },\n    {\n      \"column\": \"location\",\n      \"properties\": {\n        \"dtype\": \"category\",\n        \"num_unique_values\": 226,\n        \"samples\": [\n          \"Pimple Nilakh\",\n          \"SURESH NAGAR\",\n          \"Akurdi\"\n        ],\n        \"semantic_type\": \"\",\n        \"description\": \"\"\n      }\n    },\n    {\n      \"column\": \"city\",\n      \"properties\": {\n        \"dtype\": \"category\",\n        \"num_unique_values\": 1,\n        \"samples\": [\n          \"Pune\"\n        ],\n        \"semantic_type\": \"\",\n        \"description\": \"\"\n      }\n    },\n    {\n      \"column\": \"latitude\",\n      \"properties\": {\n        \"dtype\": \"number\",\n        \"std\": 0.3189269440366306,\n        \"min\": 18.14999962,\n        \"max\": 31.10658646,\n        \"num_unique_values\": 1654,\n        \"samples\": [\n          18.59330368\n        ],\n        \"semantic_type\": \"\",\n        \"description\": \"\"\n      }\n    },\n    {\n      \"column\": \"longitude\",\n      \"properties\": {\n        \"dtype\": \"number\",\n        \"std\": 1.9936740991937525,\n        \"min\": 18.49789619,\n        \"max\": 83.99294281,\n        \"num_unique_values\": 1621,\n        \"samples\": [\n          73.78509521\n        ],\n        \"semantic_type\": \"\",\n        \"description\": \"\"\n      }\n    },\n    {\n      \"column\": \"price\",\n      \"properties\": {\n        \"dtype\": \"number\",\n        \"std\": 18697,\n        \"min\": 1500,\n        \"max\": 425000,\n        \"num_unique_values\": 168,\n        \"samples\": [\n          4200\n        ],\n        \"semantic_type\": \"\",\n        \"description\": \"\"\n      }\n    },\n    {\n      \"column\": \"currency\",\n      \"properties\": {\n        \"dtype\": \"category\",\n        \"num_unique_values\": 1,\n        \"samples\": [\n          \"INR\"\n        ],\n        \"semantic_type\": \"\",\n        \"description\": \"\"\n      }\n    },\n    {\n      \"column\": \"numBathrooms\",\n      \"properties\": {\n        \"dtype\": \"number\",\n        \"std\": 0.7339329313903629,\n        \"min\": 1.0,\n        \"max\": 7.0,\n        \"num_unique_values\": 7,\n        \"samples\": [\n          2.0\n        ],\n        \"semantic_type\": \"\",\n        \"description\": \"\"\n      }\n    },\n    {\n      \"column\": \"numBalconies\",\n      \"properties\": {\n        \"dtype\": \"number\",\n        \"std\": 0.631492056350369,\n        \"min\": 1.0,\n        \"max\": 4.0,\n        \"num_unique_values\": 4,\n        \"samples\": [\n          2.0\n        ],\n        \"semantic_type\": \"\",\n        \"description\": \"\"\n      }\n    },\n    {\n      \"column\": \"isNegotiable\",\n      \"properties\": {\n        \"dtype\": \"category\",\n        \"num_unique_values\": 1,\n        \"samples\": [\n          \"Negotiable\"\n        ],\n        \"semantic_type\": \"\",\n        \"description\": \"\"\n      }\n    },\n    {\n      \"column\": \"priceSqFt\",\n      \"properties\": {\n        \"dtype\": \"number\",\n        \"std\": null,\n        \"min\": null,\n        \"max\": null,\n        \"num_unique_values\": 0,\n        \"samples\": [],\n        \"semantic_type\": \"\",\n        \"description\": \"\"\n      }\n    },\n    {\n      \"column\": \"verificationDate\",\n      \"properties\": {\n        \"dtype\": \"category\",\n        \"num_unique_values\": 47,\n        \"samples\": [],\n        \"semantic_type\": \"\",\n        \"description\": \"\"\n      }\n    },\n    {\n      \"column\": \"description\",\n      \"properties\": {\n        \"dtype\": \"string\",\n        \"num_unique_values\": 3031,\n        \"samples\": [],\n        \"semantic_type\": \"\",\n        \"description\": \"\"\n      }\n    },\n    {\n      \"column\": \"SecurityDeposit\",\n      \"properties\": {\n        \"dtype\": \"category\",\n        \"num_unique_values\": 87,\n        \"samples\": [],\n        \"semantic_type\": \"\",\n        \"description\": \"\"\n      }\n    },\n    {\n      \"column\": \"Status\",\n      \"properties\": {\n        \"dtype\": \"category\",\n        \"num_unique_values\": 3,\n        \"samples\": [],\n        \"semantic_type\": \"\",\n        \"description\": \"\"\n      }\n    }\n  ]\n}"
            }
          },
          "metadata": {},
          "execution_count": 2
        }
      ]
    },
    {
      "cell_type": "code",
      "source": [],
      "metadata": {
        "id": "dvfDLDPxIks4"
      },
      "execution_count": null,
      "outputs": []
    },
    {
      "cell_type": "code",
      "source": [
        "#Data cleaning\n",
        "#house_type ->replace Floor to House\n",
        "#house_size->remove , and sqft convert to numerical data\n",
        "#location->Checking for spelling mistake in location\n",
        "#City-> no problem\n",
        "#Drop -> latitude longitude\n",
        "#Pirce-> no problem\n",
        "# currency-> drop\n",
        "#numBathrooms-> convert to int\n",
        "# numnumBalconies\tisNegotiable--> Yes,no\n",
        "#Drop sqftprice\n",
        "#Drop/use verification\n",
        "#Discription - needs more research\n",
        "#Deposit--> convert to numerical, replace nodeposit with zero.\n",
        "#status--->No problem"
      ],
      "metadata": {
        "id": "pXpQBsCQIXxd"
      },
      "execution_count": null,
      "outputs": []
    },
    {
      "cell_type": "code",
      "source": [
        "pune.shape"
      ],
      "metadata": {
        "id": "UremMRiGlxQN",
        "colab": {
          "base_uri": "https://localhost:8080/"
        },
        "outputId": "42223af8-c222-4027-acbc-02271a323828"
      },
      "execution_count": null,
      "outputs": [
        {
          "output_type": "execute_result",
          "data": {
            "text/plain": [
              "(3910, 16)"
            ]
          },
          "metadata": {},
          "execution_count": 4
        }
      ]
    },
    {
      "cell_type": "code",
      "source": [
        "mumbai.shape"
      ],
      "metadata": {
        "id": "5gnQ_9n4l46q",
        "colab": {
          "base_uri": "https://localhost:8080/"
        },
        "outputId": "1378ce94-3064-44fd-dd08-29eea2c86294"
      },
      "execution_count": null,
      "outputs": [
        {
          "output_type": "execute_result",
          "data": {
            "text/plain": [
              "(5000, 16)"
            ]
          },
          "metadata": {},
          "execution_count": 5
        }
      ]
    },
    {
      "cell_type": "code",
      "source": [
        "finaldf=pd.concat([pune,mumbai]) # merge"
      ],
      "metadata": {
        "id": "oSnWqv3AmCuI"
      },
      "execution_count": null,
      "outputs": []
    },
    {
      "cell_type": "code",
      "source": [
        "import re\n",
        "def clean_House_size(text):\n",
        "  x=re.sub(',','',text)\n",
        "  y=re.sub('sq ft','',x)\n",
        "  return y.strip()"
      ],
      "metadata": {
        "id": "WIn3QXdBmRQH"
      },
      "execution_count": null,
      "outputs": []
    },
    {
      "cell_type": "code",
      "source": [
        "finaldf['house_size'].apply(clean_House_size).astype(\"int\")"
      ],
      "metadata": {
        "colab": {
          "base_uri": "https://localhost:8080/",
          "height": 458
        },
        "id": "Xq9TAnlVm8h3",
        "outputId": "70d38644-57db-45a5-a29c-5972365cb85b"
      },
      "execution_count": null,
      "outputs": [
        {
          "output_type": "execute_result",
          "data": {
            "text/plain": [
              "0        906\n",
              "1        650\n",
              "2        350\n",
              "3       1500\n",
              "4       5000\n",
              "        ... \n",
              "4995     800\n",
              "4996    1200\n",
              "4997    1040\n",
              "4998    1930\n",
              "4999    1260\n",
              "Name: house_size, Length: 8910, dtype: int64"
            ],
            "text/html": [
              "<div>\n",
              "<style scoped>\n",
              "    .dataframe tbody tr th:only-of-type {\n",
              "        vertical-align: middle;\n",
              "    }\n",
              "\n",
              "    .dataframe tbody tr th {\n",
              "        vertical-align: top;\n",
              "    }\n",
              "\n",
              "    .dataframe thead th {\n",
              "        text-align: right;\n",
              "    }\n",
              "</style>\n",
              "<table border=\"1\" class=\"dataframe\">\n",
              "  <thead>\n",
              "    <tr style=\"text-align: right;\">\n",
              "      <th></th>\n",
              "      <th>house_size</th>\n",
              "    </tr>\n",
              "  </thead>\n",
              "  <tbody>\n",
              "    <tr>\n",
              "      <th>0</th>\n",
              "      <td>906</td>\n",
              "    </tr>\n",
              "    <tr>\n",
              "      <th>1</th>\n",
              "      <td>650</td>\n",
              "    </tr>\n",
              "    <tr>\n",
              "      <th>2</th>\n",
              "      <td>350</td>\n",
              "    </tr>\n",
              "    <tr>\n",
              "      <th>3</th>\n",
              "      <td>1500</td>\n",
              "    </tr>\n",
              "    <tr>\n",
              "      <th>4</th>\n",
              "      <td>5000</td>\n",
              "    </tr>\n",
              "    <tr>\n",
              "      <th>...</th>\n",
              "      <td>...</td>\n",
              "    </tr>\n",
              "    <tr>\n",
              "      <th>4995</th>\n",
              "      <td>800</td>\n",
              "    </tr>\n",
              "    <tr>\n",
              "      <th>4996</th>\n",
              "      <td>1200</td>\n",
              "    </tr>\n",
              "    <tr>\n",
              "      <th>4997</th>\n",
              "      <td>1040</td>\n",
              "    </tr>\n",
              "    <tr>\n",
              "      <th>4998</th>\n",
              "      <td>1930</td>\n",
              "    </tr>\n",
              "    <tr>\n",
              "      <th>4999</th>\n",
              "      <td>1260</td>\n",
              "    </tr>\n",
              "  </tbody>\n",
              "</table>\n",
              "<p>8910 rows × 1 columns</p>\n",
              "</div><br><label><b>dtype:</b> int64</label>"
            ]
          },
          "metadata": {},
          "execution_count": 8
        }
      ]
    },
    {
      "cell_type": "code",
      "source": [
        "finaldf['house_size']=finaldf['house_size'].apply(clean_House_size).astype(\"int\")"
      ],
      "metadata": {
        "id": "JyX10fSKnJ8x"
      },
      "execution_count": null,
      "outputs": []
    },
    {
      "cell_type": "code",
      "source": [
        "text1=finaldf['description'].iloc[2]"
      ],
      "metadata": {
        "id": "9vkR0UrBYcyi"
      },
      "execution_count": null,
      "outputs": []
    },
    {
      "cell_type": "code",
      "source": [
        "text1"
      ],
      "metadata": {
        "colab": {
          "base_uri": "https://localhost:8080/",
          "height": 89
        },
        "id": "fgQC0NHTZmdy",
        "outputId": "c979532b-5d43-4f1f-ed16-d90372f6a324"
      },
      "execution_count": null,
      "outputs": [
        {
          "output_type": "execute_result",
          "data": {
            "text/plain": [
              "'This spacious 1 rk independent house is available for rental and is located in the heart of Wagholi. It has an area of 350 sqft with a carpet area of 300 sqft . The property is available at a monthly rental of Rs. 4,500 . This residential property is ready-to-move-in. It is made in way to provide a comfortable living for the residents. Contact us for more details. '"
            ],
            "application/vnd.google.colaboratory.intrinsic+json": {
              "type": "string"
            }
          },
          "metadata": {},
          "execution_count": 11
        }
      ]
    },
    {
      "cell_type": "code",
      "source": [
        "re.findall(\"[\\d]+\",text1)[2]"
      ],
      "metadata": {
        "colab": {
          "base_uri": "https://localhost:8080/",
          "height": 36
        },
        "id": "AHz7o05hZB2J",
        "outputId": "e59e81bb-6cd4-4181-9471-393e32685024"
      },
      "execution_count": null,
      "outputs": [
        {
          "output_type": "execute_result",
          "data": {
            "text/plain": [
              "'300'"
            ],
            "application/vnd.google.colaboratory.intrinsic+json": {
              "type": "string"
            }
          },
          "metadata": {},
          "execution_count": 12
        }
      ]
    },
    {
      "cell_type": "code",
      "source": [
        "finaldf1=finaldf.drop(columns=['latitude','longitude','currency','priceSqFt','verificationDate','description'])"
      ],
      "metadata": {
        "id": "64ELcMtGntx4"
      },
      "execution_count": null,
      "outputs": []
    },
    {
      "cell_type": "code",
      "source": [
        "def clean_Security_Deposit(text):\n",
        "  return re.sub(',','',text)"
      ],
      "metadata": {
        "id": "fqYoKVQXPEj0"
      },
      "execution_count": null,
      "outputs": []
    },
    {
      "cell_type": "code",
      "source": [
        "finaldf1['SecurityDeposit']=finaldf1['SecurityDeposit'].apply(clean_Security_Deposit)"
      ],
      "metadata": {
        "id": "qbZv8urcPO2i"
      },
      "execution_count": null,
      "outputs": []
    },
    {
      "cell_type": "code",
      "source": [
        "finaldf1['SecurityDeposit']=np.where(finaldf1['SecurityDeposit']==\"No Deposit\",0,finaldf1['SecurityDeposit'])"
      ],
      "metadata": {
        "id": "dTKngmsPQR92"
      },
      "execution_count": null,
      "outputs": []
    },
    {
      "cell_type": "code",
      "source": [
        "finaldf1['SecurityDeposit']=finaldf1['SecurityDeposit'].astype('int')"
      ],
      "metadata": {
        "id": "eaHpSH_wQG7K"
      },
      "execution_count": null,
      "outputs": []
    },
    {
      "cell_type": "code",
      "source": [
        "finaldf[finaldf['isNegotiable']=='Negotiable']['description'].iloc[811]"
      ],
      "metadata": {
        "colab": {
          "base_uri": "https://localhost:8080/",
          "height": 71
        },
        "id": "HEOXWNNEQxCj",
        "outputId": "167723fb-b0d9-45f3-9c91-270ac1714eb3"
      },
      "execution_count": null,
      "outputs": [
        {
          "output_type": "execute_result",
          "data": {
            "text/plain": [
              "'AVAILABLE 2 BHK FLAT AT ANDHERI WEST \\nVERY BIG AND LUXURY FLATS FOR FAMILY AND BACHELORS AND PETS MOST WELCOME.\\nWE HAVE MULTIPLE FLAT OPTIONS AVAILABLE AT ANDHERI WEST. FOR MORE DETAILS OR MORE FLAT OPTIONS PLEASE CONTACT US.\\nPRISM PROPERTY'"
            ],
            "application/vnd.google.colaboratory.intrinsic+json": {
              "type": "string"
            }
          },
          "metadata": {},
          "execution_count": 18
        }
      ]
    },
    {
      "cell_type": "code",
      "source": [
        "finaldf1['numBathrooms'].isna().sum()"
      ],
      "metadata": {
        "colab": {
          "base_uri": "https://localhost:8080/"
        },
        "id": "Sr3CT3pFVOvO",
        "outputId": "f94c14d9-e971-4752-948b-0e922b600aa2"
      },
      "execution_count": null,
      "outputs": [
        {
          "output_type": "execute_result",
          "data": {
            "text/plain": [
              "31"
            ]
          },
          "metadata": {},
          "execution_count": 19
        }
      ]
    },
    {
      "cell_type": "code",
      "source": [
        "finaldf1['numBathrooms'].fillna(1,inplace=True)"
      ],
      "metadata": {
        "id": "_32VYKzZbsZ4"
      },
      "execution_count": null,
      "outputs": []
    },
    {
      "cell_type": "code",
      "source": [
        "finaldf1['numBathrooms']=finaldf1['numBathrooms'].astype('int')"
      ],
      "metadata": {
        "id": "Xlixlu4CcflH"
      },
      "execution_count": null,
      "outputs": []
    },
    {
      "cell_type": "code",
      "source": [
        "finaldf1['numBalconies']=finaldf1['numBalconies'].astype('object')\n"
      ],
      "metadata": {
        "id": "4X1xKINxc0IT"
      },
      "execution_count": null,
      "outputs": []
    },
    {
      "cell_type": "code",
      "source": [
        "finaldf1.groupby('numBalconies')['price'].median()"
      ],
      "metadata": {
        "colab": {
          "base_uri": "https://localhost:8080/",
          "height": 303
        },
        "id": "bV3xt-dhdHZy",
        "outputId": "ec52737d-1d75-4a56-da68-91948e5ed03f"
      },
      "execution_count": null,
      "outputs": [
        {
          "output_type": "execute_result",
          "data": {
            "text/plain": [
              "numBalconies\n",
              "1.0     17000.0\n",
              "2.0     18000.0\n",
              "3.0     29500.0\n",
              "4.0     44000.0\n",
              "5.0     60000.0\n",
              "6.0    888000.0\n",
              "Name: price, dtype: float64"
            ],
            "text/html": [
              "<div>\n",
              "<style scoped>\n",
              "    .dataframe tbody tr th:only-of-type {\n",
              "        vertical-align: middle;\n",
              "    }\n",
              "\n",
              "    .dataframe tbody tr th {\n",
              "        vertical-align: top;\n",
              "    }\n",
              "\n",
              "    .dataframe thead th {\n",
              "        text-align: right;\n",
              "    }\n",
              "</style>\n",
              "<table border=\"1\" class=\"dataframe\">\n",
              "  <thead>\n",
              "    <tr style=\"text-align: right;\">\n",
              "      <th></th>\n",
              "      <th>price</th>\n",
              "    </tr>\n",
              "    <tr>\n",
              "      <th>numBalconies</th>\n",
              "      <th></th>\n",
              "    </tr>\n",
              "  </thead>\n",
              "  <tbody>\n",
              "    <tr>\n",
              "      <th>1.0</th>\n",
              "      <td>17000.0</td>\n",
              "    </tr>\n",
              "    <tr>\n",
              "      <th>2.0</th>\n",
              "      <td>18000.0</td>\n",
              "    </tr>\n",
              "    <tr>\n",
              "      <th>3.0</th>\n",
              "      <td>29500.0</td>\n",
              "    </tr>\n",
              "    <tr>\n",
              "      <th>4.0</th>\n",
              "      <td>44000.0</td>\n",
              "    </tr>\n",
              "    <tr>\n",
              "      <th>5.0</th>\n",
              "      <td>60000.0</td>\n",
              "    </tr>\n",
              "    <tr>\n",
              "      <th>6.0</th>\n",
              "      <td>888000.0</td>\n",
              "    </tr>\n",
              "  </tbody>\n",
              "</table>\n",
              "</div><br><label><b>dtype:</b> float64</label>"
            ]
          },
          "metadata": {},
          "execution_count": 23
        }
      ]
    },
    {
      "cell_type": "code",
      "source": [
        "finaldf1['numBalconies'].isna().sum()"
      ],
      "metadata": {
        "colab": {
          "base_uri": "https://localhost:8080/"
        },
        "id": "MaD8LovgeEY0",
        "outputId": "9c026009-3a82-44f9-f474-463db1056b97"
      },
      "execution_count": null,
      "outputs": [
        {
          "output_type": "execute_result",
          "data": {
            "text/plain": [
              "6356"
            ]
          },
          "metadata": {},
          "execution_count": 24
        }
      ]
    },
    {
      "cell_type": "code",
      "source": [
        "text=finaldf1['house_type'].head(1)[0]"
      ],
      "metadata": {
        "id": "SmhCwkx-mpBf"
      },
      "execution_count": null,
      "outputs": []
    },
    {
      "cell_type": "code",
      "source": [
        "text"
      ],
      "metadata": {
        "colab": {
          "base_uri": "https://localhost:8080/",
          "height": 36
        },
        "id": "_xC4NlcyJg40",
        "outputId": "a3b62791-0eeb-4b87-9bbd-ac0be0fec985"
      },
      "execution_count": null,
      "outputs": [
        {
          "output_type": "execute_result",
          "data": {
            "text/plain": [
              "'2 BHK Apartment '"
            ],
            "application/vnd.google.colaboratory.intrinsic+json": {
              "type": "string"
            }
          },
          "metadata": {},
          "execution_count": 26
        }
      ]
    },
    {
      "cell_type": "code",
      "source": [
        "text=text.strip()"
      ],
      "metadata": {
        "id": "lHP2NzTQnLR3"
      },
      "execution_count": null,
      "outputs": []
    },
    {
      "cell_type": "code",
      "source": [
        "import re\n",
        "re.sub(' ',\"_\",text)\n"
      ],
      "metadata": {
        "colab": {
          "base_uri": "https://localhost:8080/",
          "height": 36
        },
        "id": "_V0yLcMYm8UF",
        "outputId": "2f9fe6a0-5365-4864-d912-072b2d05df85"
      },
      "execution_count": null,
      "outputs": [
        {
          "output_type": "execute_result",
          "data": {
            "text/plain": [
              "'2_BHK_Apartment'"
            ],
            "application/vnd.google.colaboratory.intrinsic+json": {
              "type": "string"
            }
          },
          "metadata": {},
          "execution_count": 28
        }
      ]
    },
    {
      "cell_type": "code",
      "source": [
        "def house_type_cleaning(text):\n",
        "  text=text.strip()\n",
        "  return re.sub(' ',\"_\",text)"
      ],
      "metadata": {
        "id": "rpsPxS3JnSTO"
      },
      "execution_count": null,
      "outputs": []
    },
    {
      "cell_type": "code",
      "source": [
        "finaldf1['house_type']=finaldf1['house_type'].apply(house_type_cleaning)"
      ],
      "metadata": {
        "id": "3Hz9xICOmf94"
      },
      "execution_count": null,
      "outputs": []
    },
    {
      "cell_type": "code",
      "source": [
        "import numpy as np\n",
        "\n",
        "finaldf1['numBalconies'] = np.where(finaldf1['house_type'] == '2_BHK_Apartment',\n",
        "                                    finaldf1['numBalconies'].fillna(1),\n",
        "                                    finaldf1['numBalconies'].fillna(2))\n"
      ],
      "metadata": {
        "id": "HvaDuEpgn4Uu"
      },
      "execution_count": null,
      "outputs": []
    },
    {
      "cell_type": "code",
      "source": [
        "finaldf1[finaldf1['house_type']=='2 BHK Apartment']"
      ],
      "metadata": {
        "colab": {
          "base_uri": "https://localhost:8080/",
          "height": 73
        },
        "id": "SnYUxXYgjO00",
        "outputId": "c897a46d-8019-4c61-b5c3-b36fcbf2f5df"
      },
      "execution_count": null,
      "outputs": [
        {
          "output_type": "execute_result",
          "data": {
            "text/plain": [
              "Empty DataFrame\n",
              "Columns: [house_type, house_size, location, city, price, numBathrooms, numBalconies, isNegotiable, SecurityDeposit, Status]\n",
              "Index: []"
            ],
            "text/html": [
              "\n",
              "  <div id=\"df-67c428ec-6ca9-40ca-ac09-8885fe5f912f\" class=\"colab-df-container\">\n",
              "    <div>\n",
              "<style scoped>\n",
              "    .dataframe tbody tr th:only-of-type {\n",
              "        vertical-align: middle;\n",
              "    }\n",
              "\n",
              "    .dataframe tbody tr th {\n",
              "        vertical-align: top;\n",
              "    }\n",
              "\n",
              "    .dataframe thead th {\n",
              "        text-align: right;\n",
              "    }\n",
              "</style>\n",
              "<table border=\"1\" class=\"dataframe\">\n",
              "  <thead>\n",
              "    <tr style=\"text-align: right;\">\n",
              "      <th></th>\n",
              "      <th>house_type</th>\n",
              "      <th>house_size</th>\n",
              "      <th>location</th>\n",
              "      <th>city</th>\n",
              "      <th>price</th>\n",
              "      <th>numBathrooms</th>\n",
              "      <th>numBalconies</th>\n",
              "      <th>isNegotiable</th>\n",
              "      <th>SecurityDeposit</th>\n",
              "      <th>Status</th>\n",
              "    </tr>\n",
              "  </thead>\n",
              "  <tbody>\n",
              "  </tbody>\n",
              "</table>\n",
              "</div>\n",
              "    <div class=\"colab-df-buttons\">\n",
              "\n",
              "  <div class=\"colab-df-container\">\n",
              "    <button class=\"colab-df-convert\" onclick=\"convertToInteractive('df-67c428ec-6ca9-40ca-ac09-8885fe5f912f')\"\n",
              "            title=\"Convert this dataframe to an interactive table.\"\n",
              "            style=\"display:none;\">\n",
              "\n",
              "  <svg xmlns=\"http://www.w3.org/2000/svg\" height=\"24px\" viewBox=\"0 -960 960 960\">\n",
              "    <path d=\"M120-120v-720h720v720H120Zm60-500h600v-160H180v160Zm220 220h160v-160H400v160Zm0 220h160v-160H400v160ZM180-400h160v-160H180v160Zm440 0h160v-160H620v160ZM180-180h160v-160H180v160Zm440 0h160v-160H620v160Z\"/>\n",
              "  </svg>\n",
              "    </button>\n",
              "\n",
              "  <style>\n",
              "    .colab-df-container {\n",
              "      display:flex;\n",
              "      gap: 12px;\n",
              "    }\n",
              "\n",
              "    .colab-df-convert {\n",
              "      background-color: #E8F0FE;\n",
              "      border: none;\n",
              "      border-radius: 50%;\n",
              "      cursor: pointer;\n",
              "      display: none;\n",
              "      fill: #1967D2;\n",
              "      height: 32px;\n",
              "      padding: 0 0 0 0;\n",
              "      width: 32px;\n",
              "    }\n",
              "\n",
              "    .colab-df-convert:hover {\n",
              "      background-color: #E2EBFA;\n",
              "      box-shadow: 0px 1px 2px rgba(60, 64, 67, 0.3), 0px 1px 3px 1px rgba(60, 64, 67, 0.15);\n",
              "      fill: #174EA6;\n",
              "    }\n",
              "\n",
              "    .colab-df-buttons div {\n",
              "      margin-bottom: 4px;\n",
              "    }\n",
              "\n",
              "    [theme=dark] .colab-df-convert {\n",
              "      background-color: #3B4455;\n",
              "      fill: #D2E3FC;\n",
              "    }\n",
              "\n",
              "    [theme=dark] .colab-df-convert:hover {\n",
              "      background-color: #434B5C;\n",
              "      box-shadow: 0px 1px 3px 1px rgba(0, 0, 0, 0.15);\n",
              "      filter: drop-shadow(0px 1px 2px rgba(0, 0, 0, 0.3));\n",
              "      fill: #FFFFFF;\n",
              "    }\n",
              "  </style>\n",
              "\n",
              "    <script>\n",
              "      const buttonEl =\n",
              "        document.querySelector('#df-67c428ec-6ca9-40ca-ac09-8885fe5f912f button.colab-df-convert');\n",
              "      buttonEl.style.display =\n",
              "        google.colab.kernel.accessAllowed ? 'block' : 'none';\n",
              "\n",
              "      async function convertToInteractive(key) {\n",
              "        const element = document.querySelector('#df-67c428ec-6ca9-40ca-ac09-8885fe5f912f');\n",
              "        const dataTable =\n",
              "          await google.colab.kernel.invokeFunction('convertToInteractive',\n",
              "                                                    [key], {});\n",
              "        if (!dataTable) return;\n",
              "\n",
              "        const docLinkHtml = 'Like what you see? Visit the ' +\n",
              "          '<a target=\"_blank\" href=https://colab.research.google.com/notebooks/data_table.ipynb>data table notebook</a>'\n",
              "          + ' to learn more about interactive tables.';\n",
              "        element.innerHTML = '';\n",
              "        dataTable['output_type'] = 'display_data';\n",
              "        await google.colab.output.renderOutput(dataTable, element);\n",
              "        const docLink = document.createElement('div');\n",
              "        docLink.innerHTML = docLinkHtml;\n",
              "        element.appendChild(docLink);\n",
              "      }\n",
              "    </script>\n",
              "  </div>\n",
              "\n",
              "\n",
              "    </div>\n",
              "  </div>\n"
            ],
            "application/vnd.google.colaboratory.intrinsic+json": {
              "type": "dataframe",
              "repr_error": "Out of range float values are not JSON compliant: nan"
            }
          },
          "metadata": {},
          "execution_count": 32
        }
      ]
    },
    {
      "cell_type": "markdown",
      "source": [],
      "metadata": {
        "id": "j0y39oo0epoL"
      }
    },
    {
      "cell_type": "code",
      "source": [
        "finaldf['description']"
      ],
      "metadata": {
        "colab": {
          "base_uri": "https://localhost:8080/",
          "height": 458
        },
        "id": "XM2EARtId3s7",
        "outputId": "54163f74-ff78-4042-f3a9-f851ed1db5ff"
      },
      "execution_count": null,
      "outputs": [
        {
          "output_type": "execute_result",
          "data": {
            "text/plain": [
              "0       A spacious 2 bhk multistorey apartment is avai...\n",
              "1       It has a built-up area of 650 sqft and is avai...\n",
              "2       This spacious 1 rk independent house is availa...\n",
              "3       Furnishings include 1 tv, 1 refrigerator, 1 so...\n",
              "4       Itâs a 5 bhk independent house situated in W...\n",
              "                              ...                        \n",
              "4995    Gundecha asta complex. Andheri East. sakinaka ...\n",
              "4996    It has an area of 1200 sqft . The property is ...\n",
              "4997    It is located on the 7th floor(out of a total ...\n",
              "4998    It is a furnished property. It has 1 wardrobe,...\n",
              "4999    It has an area of 1260 sqft . The property is ...\n",
              "Name: description, Length: 8910, dtype: object"
            ],
            "text/html": [
              "<div>\n",
              "<style scoped>\n",
              "    .dataframe tbody tr th:only-of-type {\n",
              "        vertical-align: middle;\n",
              "    }\n",
              "\n",
              "    .dataframe tbody tr th {\n",
              "        vertical-align: top;\n",
              "    }\n",
              "\n",
              "    .dataframe thead th {\n",
              "        text-align: right;\n",
              "    }\n",
              "</style>\n",
              "<table border=\"1\" class=\"dataframe\">\n",
              "  <thead>\n",
              "    <tr style=\"text-align: right;\">\n",
              "      <th></th>\n",
              "      <th>description</th>\n",
              "    </tr>\n",
              "  </thead>\n",
              "  <tbody>\n",
              "    <tr>\n",
              "      <th>0</th>\n",
              "      <td>A spacious 2 bhk multistorey apartment is avai...</td>\n",
              "    </tr>\n",
              "    <tr>\n",
              "      <th>1</th>\n",
              "      <td>It has a built-up area of 650 sqft and is avai...</td>\n",
              "    </tr>\n",
              "    <tr>\n",
              "      <th>2</th>\n",
              "      <td>This spacious 1 rk independent house is availa...</td>\n",
              "    </tr>\n",
              "    <tr>\n",
              "      <th>3</th>\n",
              "      <td>Furnishings include 1 tv, 1 refrigerator, 1 so...</td>\n",
              "    </tr>\n",
              "    <tr>\n",
              "      <th>4</th>\n",
              "      <td>Itâs a 5 bhk independent house situated in W...</td>\n",
              "    </tr>\n",
              "    <tr>\n",
              "      <th>...</th>\n",
              "      <td>...</td>\n",
              "    </tr>\n",
              "    <tr>\n",
              "      <th>4995</th>\n",
              "      <td>Gundecha asta complex. Andheri East. sakinaka ...</td>\n",
              "    </tr>\n",
              "    <tr>\n",
              "      <th>4996</th>\n",
              "      <td>It has an area of 1200 sqft . The property is ...</td>\n",
              "    </tr>\n",
              "    <tr>\n",
              "      <th>4997</th>\n",
              "      <td>It is located on the 7th floor(out of a total ...</td>\n",
              "    </tr>\n",
              "    <tr>\n",
              "      <th>4998</th>\n",
              "      <td>It is a furnished property. It has 1 wardrobe,...</td>\n",
              "    </tr>\n",
              "    <tr>\n",
              "      <th>4999</th>\n",
              "      <td>It has an area of 1260 sqft . The property is ...</td>\n",
              "    </tr>\n",
              "  </tbody>\n",
              "</table>\n",
              "<p>8910 rows × 1 columns</p>\n",
              "</div><br><label><b>dtype:</b> object</label>"
            ]
          },
          "metadata": {},
          "execution_count": 33
        }
      ]
    },
    {
      "cell_type": "code",
      "source": [
        "finaldf1['isNegotiable']=np.where(finaldf1['isNegotiable']=='Negotiable','Yes','No')"
      ],
      "metadata": {
        "id": "qcafM2Rqfcsb"
      },
      "execution_count": null,
      "outputs": []
    },
    {
      "cell_type": "code",
      "source": [
        "finaldf1.isna().sum()"
      ],
      "metadata": {
        "id": "NOQqS9KTeSkL",
        "colab": {
          "base_uri": "https://localhost:8080/",
          "height": 397
        },
        "outputId": "c6795bdf-3d50-4d8e-bb5d-ea4e10039cdb"
      },
      "execution_count": null,
      "outputs": [
        {
          "output_type": "execute_result",
          "data": {
            "text/plain": [
              "house_type         0\n",
              "house_size         0\n",
              "location           0\n",
              "city               0\n",
              "price              0\n",
              "numBathrooms       0\n",
              "numBalconies       0\n",
              "isNegotiable       0\n",
              "SecurityDeposit    0\n",
              "Status             0\n",
              "dtype: int64"
            ],
            "text/html": [
              "<div>\n",
              "<style scoped>\n",
              "    .dataframe tbody tr th:only-of-type {\n",
              "        vertical-align: middle;\n",
              "    }\n",
              "\n",
              "    .dataframe tbody tr th {\n",
              "        vertical-align: top;\n",
              "    }\n",
              "\n",
              "    .dataframe thead th {\n",
              "        text-align: right;\n",
              "    }\n",
              "</style>\n",
              "<table border=\"1\" class=\"dataframe\">\n",
              "  <thead>\n",
              "    <tr style=\"text-align: right;\">\n",
              "      <th></th>\n",
              "      <th>0</th>\n",
              "    </tr>\n",
              "  </thead>\n",
              "  <tbody>\n",
              "    <tr>\n",
              "      <th>house_type</th>\n",
              "      <td>0</td>\n",
              "    </tr>\n",
              "    <tr>\n",
              "      <th>house_size</th>\n",
              "      <td>0</td>\n",
              "    </tr>\n",
              "    <tr>\n",
              "      <th>location</th>\n",
              "      <td>0</td>\n",
              "    </tr>\n",
              "    <tr>\n",
              "      <th>city</th>\n",
              "      <td>0</td>\n",
              "    </tr>\n",
              "    <tr>\n",
              "      <th>price</th>\n",
              "      <td>0</td>\n",
              "    </tr>\n",
              "    <tr>\n",
              "      <th>numBathrooms</th>\n",
              "      <td>0</td>\n",
              "    </tr>\n",
              "    <tr>\n",
              "      <th>numBalconies</th>\n",
              "      <td>0</td>\n",
              "    </tr>\n",
              "    <tr>\n",
              "      <th>isNegotiable</th>\n",
              "      <td>0</td>\n",
              "    </tr>\n",
              "    <tr>\n",
              "      <th>SecurityDeposit</th>\n",
              "      <td>0</td>\n",
              "    </tr>\n",
              "    <tr>\n",
              "      <th>Status</th>\n",
              "      <td>0</td>\n",
              "    </tr>\n",
              "  </tbody>\n",
              "</table>\n",
              "</div><br><label><b>dtype:</b> int64</label>"
            ]
          },
          "metadata": {},
          "execution_count": 35
        }
      ]
    },
    {
      "cell_type": "code",
      "source": [
        "from sklearn.compose import ColumnTransformer\n",
        "from sklearn.pipeline import Pipeline\n",
        "from sklearn.preprocessing import OneHotEncoder,OrdinalEncoder\n",
        "from sklearn.metrics import r2_score,mean_absolute_error\n",
        "from sklearn.linear_model import LinearRegression\n",
        "from sklearn.neighbors import KNeighborsRegressor\n",
        "from sklearn.tree import DecisionTreeRegressor\n",
        "from sklearn.ensemble import RandomForestRegressor,GradientBoostingRegressor,AdaBoostRegressor\n",
        "from sklearn.svm import SVR"
      ],
      "metadata": {
        "id": "kT2JdzWbptGs"
      },
      "execution_count": null,
      "outputs": []
    },
    {
      "cell_type": "code",
      "source": [
        "x=finaldf1.drop(columns=['price'])\n",
        "y=finaldf1['price']"
      ],
      "metadata": {
        "id": "_CZKo94uqh-u"
      },
      "execution_count": null,
      "outputs": []
    },
    {
      "cell_type": "code",
      "source": [
        "# train test split\n",
        "from sklearn.model_selection import train_test_split\n",
        "X_train,X_test,y_train,y_test = train_test_split(x,y,test_size=0.20,random_state=2)"
      ],
      "metadata": {
        "id": "NpULa57wtO9Y"
      },
      "execution_count": null,
      "outputs": []
    },
    {
      "cell_type": "code",
      "source": [
        "X_train['city'].value_counts()"
      ],
      "metadata": {
        "colab": {
          "base_uri": "https://localhost:8080/",
          "height": 209
        },
        "id": "BNIRkOyTrAD2",
        "outputId": "788c49e3-243b-41ec-f2e9-473ed592a213"
      },
      "execution_count": null,
      "outputs": [
        {
          "output_type": "execute_result",
          "data": {
            "text/plain": [
              "city\n",
              "Mumbai    4013\n",
              "Pune      3107\n",
              "Hisar        8\n",
              "Name: count, dtype: int64"
            ],
            "text/html": [
              "<div>\n",
              "<style scoped>\n",
              "    .dataframe tbody tr th:only-of-type {\n",
              "        vertical-align: middle;\n",
              "    }\n",
              "\n",
              "    .dataframe tbody tr th {\n",
              "        vertical-align: top;\n",
              "    }\n",
              "\n",
              "    .dataframe thead th {\n",
              "        text-align: right;\n",
              "    }\n",
              "</style>\n",
              "<table border=\"1\" class=\"dataframe\">\n",
              "  <thead>\n",
              "    <tr style=\"text-align: right;\">\n",
              "      <th></th>\n",
              "      <th>count</th>\n",
              "    </tr>\n",
              "    <tr>\n",
              "      <th>city</th>\n",
              "      <th></th>\n",
              "    </tr>\n",
              "  </thead>\n",
              "  <tbody>\n",
              "    <tr>\n",
              "      <th>Mumbai</th>\n",
              "      <td>4013</td>\n",
              "    </tr>\n",
              "    <tr>\n",
              "      <th>Pune</th>\n",
              "      <td>3107</td>\n",
              "    </tr>\n",
              "    <tr>\n",
              "      <th>Hisar</th>\n",
              "      <td>8</td>\n",
              "    </tr>\n",
              "  </tbody>\n",
              "</table>\n",
              "</div><br><label><b>dtype:</b> int64</label>"
            ]
          },
          "metadata": {},
          "execution_count": 39
        }
      ]
    },
    {
      "cell_type": "code",
      "source": [
        "X_train"
      ],
      "metadata": {
        "id": "vfSCISFKp9H_",
        "colab": {
          "base_uri": "https://localhost:8080/",
          "height": 565
        },
        "outputId": "9248904a-810a-4d2a-a0b2-3eb6d0647f3e"
      },
      "execution_count": null,
      "outputs": [
        {
          "output_type": "execute_result",
          "data": {
            "text/plain": [
              "           house_type  house_size        location    city  numBathrooms  \\\n",
              "251   3_BHK_Apartment        1310     Kalyan West  Mumbai             3   \n",
              "482   2_BHK_Apartment         950     Bandra West  Mumbai             2   \n",
              "1449  1_BHK_Apartment         956          Wadala  Mumbai             1   \n",
              "2316  1_BHK_Apartment         700            Ulwe  Mumbai             1   \n",
              "623   2_BHK_Apartment         780        Lohegaon    Pune             2   \n",
              "...               ...         ...             ...     ...           ...   \n",
              "1099  2_BHK_Apartment         990         Wagholi    Pune             2   \n",
              "2514  2_BHK_Apartment        1100           Aundh    Pune             2   \n",
              "2727  2_BHK_Apartment        1000  Ambernath West  Mumbai             2   \n",
              "2575  1_BHK_Apartment         633         Dhanori    Pune             1   \n",
              "3426  3_BHK_Apartment        1100     Bandra West  Mumbai             4   \n",
              "\n",
              "      numBalconies isNegotiable  SecurityDeposit          Status  \n",
              "251            2.0           No                0       Furnished  \n",
              "482            1.0           No                0       Furnished  \n",
              "1449           2.0           No                0  Semi-Furnished  \n",
              "2316           2.0           No                0       Furnished  \n",
              "623            1.0           No                0  Semi-Furnished  \n",
              "...            ...          ...              ...             ...  \n",
              "1099           2.0           No            25000       Furnished  \n",
              "2514           1.0          Yes            84000  Semi-Furnished  \n",
              "2727           1.0           No                0  Semi-Furnished  \n",
              "2575           2.0          Yes            50000     Unfurnished  \n",
              "3426           2.0          Yes           600000  Semi-Furnished  \n",
              "\n",
              "[7128 rows x 9 columns]"
            ],
            "text/html": [
              "\n",
              "  <div id=\"df-1acc0737-ff8c-49e5-9dba-725bb60f15d9\" class=\"colab-df-container\">\n",
              "    <div>\n",
              "<style scoped>\n",
              "    .dataframe tbody tr th:only-of-type {\n",
              "        vertical-align: middle;\n",
              "    }\n",
              "\n",
              "    .dataframe tbody tr th {\n",
              "        vertical-align: top;\n",
              "    }\n",
              "\n",
              "    .dataframe thead th {\n",
              "        text-align: right;\n",
              "    }\n",
              "</style>\n",
              "<table border=\"1\" class=\"dataframe\">\n",
              "  <thead>\n",
              "    <tr style=\"text-align: right;\">\n",
              "      <th></th>\n",
              "      <th>house_type</th>\n",
              "      <th>house_size</th>\n",
              "      <th>location</th>\n",
              "      <th>city</th>\n",
              "      <th>numBathrooms</th>\n",
              "      <th>numBalconies</th>\n",
              "      <th>isNegotiable</th>\n",
              "      <th>SecurityDeposit</th>\n",
              "      <th>Status</th>\n",
              "    </tr>\n",
              "  </thead>\n",
              "  <tbody>\n",
              "    <tr>\n",
              "      <th>251</th>\n",
              "      <td>3_BHK_Apartment</td>\n",
              "      <td>1310</td>\n",
              "      <td>Kalyan West</td>\n",
              "      <td>Mumbai</td>\n",
              "      <td>3</td>\n",
              "      <td>2.0</td>\n",
              "      <td>No</td>\n",
              "      <td>0</td>\n",
              "      <td>Furnished</td>\n",
              "    </tr>\n",
              "    <tr>\n",
              "      <th>482</th>\n",
              "      <td>2_BHK_Apartment</td>\n",
              "      <td>950</td>\n",
              "      <td>Bandra West</td>\n",
              "      <td>Mumbai</td>\n",
              "      <td>2</td>\n",
              "      <td>1.0</td>\n",
              "      <td>No</td>\n",
              "      <td>0</td>\n",
              "      <td>Furnished</td>\n",
              "    </tr>\n",
              "    <tr>\n",
              "      <th>1449</th>\n",
              "      <td>1_BHK_Apartment</td>\n",
              "      <td>956</td>\n",
              "      <td>Wadala</td>\n",
              "      <td>Mumbai</td>\n",
              "      <td>1</td>\n",
              "      <td>2.0</td>\n",
              "      <td>No</td>\n",
              "      <td>0</td>\n",
              "      <td>Semi-Furnished</td>\n",
              "    </tr>\n",
              "    <tr>\n",
              "      <th>2316</th>\n",
              "      <td>1_BHK_Apartment</td>\n",
              "      <td>700</td>\n",
              "      <td>Ulwe</td>\n",
              "      <td>Mumbai</td>\n",
              "      <td>1</td>\n",
              "      <td>2.0</td>\n",
              "      <td>No</td>\n",
              "      <td>0</td>\n",
              "      <td>Furnished</td>\n",
              "    </tr>\n",
              "    <tr>\n",
              "      <th>623</th>\n",
              "      <td>2_BHK_Apartment</td>\n",
              "      <td>780</td>\n",
              "      <td>Lohegaon</td>\n",
              "      <td>Pune</td>\n",
              "      <td>2</td>\n",
              "      <td>1.0</td>\n",
              "      <td>No</td>\n",
              "      <td>0</td>\n",
              "      <td>Semi-Furnished</td>\n",
              "    </tr>\n",
              "    <tr>\n",
              "      <th>...</th>\n",
              "      <td>...</td>\n",
              "      <td>...</td>\n",
              "      <td>...</td>\n",
              "      <td>...</td>\n",
              "      <td>...</td>\n",
              "      <td>...</td>\n",
              "      <td>...</td>\n",
              "      <td>...</td>\n",
              "      <td>...</td>\n",
              "    </tr>\n",
              "    <tr>\n",
              "      <th>1099</th>\n",
              "      <td>2_BHK_Apartment</td>\n",
              "      <td>990</td>\n",
              "      <td>Wagholi</td>\n",
              "      <td>Pune</td>\n",
              "      <td>2</td>\n",
              "      <td>2.0</td>\n",
              "      <td>No</td>\n",
              "      <td>25000</td>\n",
              "      <td>Furnished</td>\n",
              "    </tr>\n",
              "    <tr>\n",
              "      <th>2514</th>\n",
              "      <td>2_BHK_Apartment</td>\n",
              "      <td>1100</td>\n",
              "      <td>Aundh</td>\n",
              "      <td>Pune</td>\n",
              "      <td>2</td>\n",
              "      <td>1.0</td>\n",
              "      <td>Yes</td>\n",
              "      <td>84000</td>\n",
              "      <td>Semi-Furnished</td>\n",
              "    </tr>\n",
              "    <tr>\n",
              "      <th>2727</th>\n",
              "      <td>2_BHK_Apartment</td>\n",
              "      <td>1000</td>\n",
              "      <td>Ambernath West</td>\n",
              "      <td>Mumbai</td>\n",
              "      <td>2</td>\n",
              "      <td>1.0</td>\n",
              "      <td>No</td>\n",
              "      <td>0</td>\n",
              "      <td>Semi-Furnished</td>\n",
              "    </tr>\n",
              "    <tr>\n",
              "      <th>2575</th>\n",
              "      <td>1_BHK_Apartment</td>\n",
              "      <td>633</td>\n",
              "      <td>Dhanori</td>\n",
              "      <td>Pune</td>\n",
              "      <td>1</td>\n",
              "      <td>2.0</td>\n",
              "      <td>Yes</td>\n",
              "      <td>50000</td>\n",
              "      <td>Unfurnished</td>\n",
              "    </tr>\n",
              "    <tr>\n",
              "      <th>3426</th>\n",
              "      <td>3_BHK_Apartment</td>\n",
              "      <td>1100</td>\n",
              "      <td>Bandra West</td>\n",
              "      <td>Mumbai</td>\n",
              "      <td>4</td>\n",
              "      <td>2.0</td>\n",
              "      <td>Yes</td>\n",
              "      <td>600000</td>\n",
              "      <td>Semi-Furnished</td>\n",
              "    </tr>\n",
              "  </tbody>\n",
              "</table>\n",
              "<p>7128 rows × 9 columns</p>\n",
              "</div>\n",
              "    <div class=\"colab-df-buttons\">\n",
              "\n",
              "  <div class=\"colab-df-container\">\n",
              "    <button class=\"colab-df-convert\" onclick=\"convertToInteractive('df-1acc0737-ff8c-49e5-9dba-725bb60f15d9')\"\n",
              "            title=\"Convert this dataframe to an interactive table.\"\n",
              "            style=\"display:none;\">\n",
              "\n",
              "  <svg xmlns=\"http://www.w3.org/2000/svg\" height=\"24px\" viewBox=\"0 -960 960 960\">\n",
              "    <path d=\"M120-120v-720h720v720H120Zm60-500h600v-160H180v160Zm220 220h160v-160H400v160Zm0 220h160v-160H400v160ZM180-400h160v-160H180v160Zm440 0h160v-160H620v160ZM180-180h160v-160H180v160Zm440 0h160v-160H620v160Z\"/>\n",
              "  </svg>\n",
              "    </button>\n",
              "\n",
              "  <style>\n",
              "    .colab-df-container {\n",
              "      display:flex;\n",
              "      gap: 12px;\n",
              "    }\n",
              "\n",
              "    .colab-df-convert {\n",
              "      background-color: #E8F0FE;\n",
              "      border: none;\n",
              "      border-radius: 50%;\n",
              "      cursor: pointer;\n",
              "      display: none;\n",
              "      fill: #1967D2;\n",
              "      height: 32px;\n",
              "      padding: 0 0 0 0;\n",
              "      width: 32px;\n",
              "    }\n",
              "\n",
              "    .colab-df-convert:hover {\n",
              "      background-color: #E2EBFA;\n",
              "      box-shadow: 0px 1px 2px rgba(60, 64, 67, 0.3), 0px 1px 3px 1px rgba(60, 64, 67, 0.15);\n",
              "      fill: #174EA6;\n",
              "    }\n",
              "\n",
              "    .colab-df-buttons div {\n",
              "      margin-bottom: 4px;\n",
              "    }\n",
              "\n",
              "    [theme=dark] .colab-df-convert {\n",
              "      background-color: #3B4455;\n",
              "      fill: #D2E3FC;\n",
              "    }\n",
              "\n",
              "    [theme=dark] .colab-df-convert:hover {\n",
              "      background-color: #434B5C;\n",
              "      box-shadow: 0px 1px 3px 1px rgba(0, 0, 0, 0.15);\n",
              "      filter: drop-shadow(0px 1px 2px rgba(0, 0, 0, 0.3));\n",
              "      fill: #FFFFFF;\n",
              "    }\n",
              "  </style>\n",
              "\n",
              "    <script>\n",
              "      const buttonEl =\n",
              "        document.querySelector('#df-1acc0737-ff8c-49e5-9dba-725bb60f15d9 button.colab-df-convert');\n",
              "      buttonEl.style.display =\n",
              "        google.colab.kernel.accessAllowed ? 'block' : 'none';\n",
              "\n",
              "      async function convertToInteractive(key) {\n",
              "        const element = document.querySelector('#df-1acc0737-ff8c-49e5-9dba-725bb60f15d9');\n",
              "        const dataTable =\n",
              "          await google.colab.kernel.invokeFunction('convertToInteractive',\n",
              "                                                    [key], {});\n",
              "        if (!dataTable) return;\n",
              "\n",
              "        const docLinkHtml = 'Like what you see? Visit the ' +\n",
              "          '<a target=\"_blank\" href=https://colab.research.google.com/notebooks/data_table.ipynb>data table notebook</a>'\n",
              "          + ' to learn more about interactive tables.';\n",
              "        element.innerHTML = '';\n",
              "        dataTable['output_type'] = 'display_data';\n",
              "        await google.colab.output.renderOutput(dataTable, element);\n",
              "        const docLink = document.createElement('div');\n",
              "        docLink.innerHTML = docLinkHtml;\n",
              "        element.appendChild(docLink);\n",
              "      }\n",
              "    </script>\n",
              "  </div>\n",
              "\n",
              "\n",
              "<div id=\"df-a958c883-49a7-4660-ab7d-345c15cc591d\">\n",
              "  <button class=\"colab-df-quickchart\" onclick=\"quickchart('df-a958c883-49a7-4660-ab7d-345c15cc591d')\"\n",
              "            title=\"Suggest charts\"\n",
              "            style=\"display:none;\">\n",
              "\n",
              "<svg xmlns=\"http://www.w3.org/2000/svg\" height=\"24px\"viewBox=\"0 0 24 24\"\n",
              "     width=\"24px\">\n",
              "    <g>\n",
              "        <path d=\"M19 3H5c-1.1 0-2 .9-2 2v14c0 1.1.9 2 2 2h14c1.1 0 2-.9 2-2V5c0-1.1-.9-2-2-2zM9 17H7v-7h2v7zm4 0h-2V7h2v10zm4 0h-2v-4h2v4z\"/>\n",
              "    </g>\n",
              "</svg>\n",
              "  </button>\n",
              "\n",
              "<style>\n",
              "  .colab-df-quickchart {\n",
              "      --bg-color: #E8F0FE;\n",
              "      --fill-color: #1967D2;\n",
              "      --hover-bg-color: #E2EBFA;\n",
              "      --hover-fill-color: #174EA6;\n",
              "      --disabled-fill-color: #AAA;\n",
              "      --disabled-bg-color: #DDD;\n",
              "  }\n",
              "\n",
              "  [theme=dark] .colab-df-quickchart {\n",
              "      --bg-color: #3B4455;\n",
              "      --fill-color: #D2E3FC;\n",
              "      --hover-bg-color: #434B5C;\n",
              "      --hover-fill-color: #FFFFFF;\n",
              "      --disabled-bg-color: #3B4455;\n",
              "      --disabled-fill-color: #666;\n",
              "  }\n",
              "\n",
              "  .colab-df-quickchart {\n",
              "    background-color: var(--bg-color);\n",
              "    border: none;\n",
              "    border-radius: 50%;\n",
              "    cursor: pointer;\n",
              "    display: none;\n",
              "    fill: var(--fill-color);\n",
              "    height: 32px;\n",
              "    padding: 0;\n",
              "    width: 32px;\n",
              "  }\n",
              "\n",
              "  .colab-df-quickchart:hover {\n",
              "    background-color: var(--hover-bg-color);\n",
              "    box-shadow: 0 1px 2px rgba(60, 64, 67, 0.3), 0 1px 3px 1px rgba(60, 64, 67, 0.15);\n",
              "    fill: var(--button-hover-fill-color);\n",
              "  }\n",
              "\n",
              "  .colab-df-quickchart-complete:disabled,\n",
              "  .colab-df-quickchart-complete:disabled:hover {\n",
              "    background-color: var(--disabled-bg-color);\n",
              "    fill: var(--disabled-fill-color);\n",
              "    box-shadow: none;\n",
              "  }\n",
              "\n",
              "  .colab-df-spinner {\n",
              "    border: 2px solid var(--fill-color);\n",
              "    border-color: transparent;\n",
              "    border-bottom-color: var(--fill-color);\n",
              "    animation:\n",
              "      spin 1s steps(1) infinite;\n",
              "  }\n",
              "\n",
              "  @keyframes spin {\n",
              "    0% {\n",
              "      border-color: transparent;\n",
              "      border-bottom-color: var(--fill-color);\n",
              "      border-left-color: var(--fill-color);\n",
              "    }\n",
              "    20% {\n",
              "      border-color: transparent;\n",
              "      border-left-color: var(--fill-color);\n",
              "      border-top-color: var(--fill-color);\n",
              "    }\n",
              "    30% {\n",
              "      border-color: transparent;\n",
              "      border-left-color: var(--fill-color);\n",
              "      border-top-color: var(--fill-color);\n",
              "      border-right-color: var(--fill-color);\n",
              "    }\n",
              "    40% {\n",
              "      border-color: transparent;\n",
              "      border-right-color: var(--fill-color);\n",
              "      border-top-color: var(--fill-color);\n",
              "    }\n",
              "    60% {\n",
              "      border-color: transparent;\n",
              "      border-right-color: var(--fill-color);\n",
              "    }\n",
              "    80% {\n",
              "      border-color: transparent;\n",
              "      border-right-color: var(--fill-color);\n",
              "      border-bottom-color: var(--fill-color);\n",
              "    }\n",
              "    90% {\n",
              "      border-color: transparent;\n",
              "      border-bottom-color: var(--fill-color);\n",
              "    }\n",
              "  }\n",
              "</style>\n",
              "\n",
              "  <script>\n",
              "    async function quickchart(key) {\n",
              "      const quickchartButtonEl =\n",
              "        document.querySelector('#' + key + ' button');\n",
              "      quickchartButtonEl.disabled = true;  // To prevent multiple clicks.\n",
              "      quickchartButtonEl.classList.add('colab-df-spinner');\n",
              "      try {\n",
              "        const charts = await google.colab.kernel.invokeFunction(\n",
              "            'suggestCharts', [key], {});\n",
              "      } catch (error) {\n",
              "        console.error('Error during call to suggestCharts:', error);\n",
              "      }\n",
              "      quickchartButtonEl.classList.remove('colab-df-spinner');\n",
              "      quickchartButtonEl.classList.add('colab-df-quickchart-complete');\n",
              "    }\n",
              "    (() => {\n",
              "      let quickchartButtonEl =\n",
              "        document.querySelector('#df-a958c883-49a7-4660-ab7d-345c15cc591d button');\n",
              "      quickchartButtonEl.style.display =\n",
              "        google.colab.kernel.accessAllowed ? 'block' : 'none';\n",
              "    })();\n",
              "  </script>\n",
              "</div>\n",
              "\n",
              "  <div id=\"id_9da20d71-dbd3-40a5-9613-9daa12441001\">\n",
              "    <style>\n",
              "      .colab-df-generate {\n",
              "        background-color: #E8F0FE;\n",
              "        border: none;\n",
              "        border-radius: 50%;\n",
              "        cursor: pointer;\n",
              "        display: none;\n",
              "        fill: #1967D2;\n",
              "        height: 32px;\n",
              "        padding: 0 0 0 0;\n",
              "        width: 32px;\n",
              "      }\n",
              "\n",
              "      .colab-df-generate:hover {\n",
              "        background-color: #E2EBFA;\n",
              "        box-shadow: 0px 1px 2px rgba(60, 64, 67, 0.3), 0px 1px 3px 1px rgba(60, 64, 67, 0.15);\n",
              "        fill: #174EA6;\n",
              "      }\n",
              "\n",
              "      [theme=dark] .colab-df-generate {\n",
              "        background-color: #3B4455;\n",
              "        fill: #D2E3FC;\n",
              "      }\n",
              "\n",
              "      [theme=dark] .colab-df-generate:hover {\n",
              "        background-color: #434B5C;\n",
              "        box-shadow: 0px 1px 3px 1px rgba(0, 0, 0, 0.15);\n",
              "        filter: drop-shadow(0px 1px 2px rgba(0, 0, 0, 0.3));\n",
              "        fill: #FFFFFF;\n",
              "      }\n",
              "    </style>\n",
              "    <button class=\"colab-df-generate\" onclick=\"generateWithVariable('X_train')\"\n",
              "            title=\"Generate code using this dataframe.\"\n",
              "            style=\"display:none;\">\n",
              "\n",
              "  <svg xmlns=\"http://www.w3.org/2000/svg\" height=\"24px\"viewBox=\"0 0 24 24\"\n",
              "       width=\"24px\">\n",
              "    <path d=\"M7,19H8.4L18.45,9,17,7.55,7,17.6ZM5,21V16.75L18.45,3.32a2,2,0,0,1,2.83,0l1.4,1.43a1.91,1.91,0,0,1,.58,1.4,1.91,1.91,0,0,1-.58,1.4L9.25,21ZM18.45,9,17,7.55Zm-12,3A5.31,5.31,0,0,0,4.9,8.1,5.31,5.31,0,0,0,1,6.5,5.31,5.31,0,0,0,4.9,4.9,5.31,5.31,0,0,0,6.5,1,5.31,5.31,0,0,0,8.1,4.9,5.31,5.31,0,0,0,12,6.5,5.46,5.46,0,0,0,6.5,12Z\"/>\n",
              "  </svg>\n",
              "    </button>\n",
              "    <script>\n",
              "      (() => {\n",
              "      const buttonEl =\n",
              "        document.querySelector('#id_9da20d71-dbd3-40a5-9613-9daa12441001 button.colab-df-generate');\n",
              "      buttonEl.style.display =\n",
              "        google.colab.kernel.accessAllowed ? 'block' : 'none';\n",
              "\n",
              "      buttonEl.onclick = () => {\n",
              "        google.colab.notebook.generateWithVariable('X_train');\n",
              "      }\n",
              "      })();\n",
              "    </script>\n",
              "  </div>\n",
              "\n",
              "    </div>\n",
              "  </div>\n"
            ],
            "application/vnd.google.colaboratory.intrinsic+json": {
              "type": "dataframe",
              "variable_name": "X_train",
              "summary": "{\n  \"name\": \"X_train\",\n  \"rows\": 7128,\n  \"fields\": [\n    {\n      \"column\": \"house_type\",\n      \"properties\": {\n        \"dtype\": \"category\",\n        \"num_unique_values\": 24,\n        \"samples\": [\n          \"3_BHK_Villa\",\n          \"3_BHK_Independent_Floor\",\n          \"3_BHK_Apartment\"\n        ],\n        \"semantic_type\": \"\",\n        \"description\": \"\"\n      }\n    },\n    {\n      \"column\": \"house_size\",\n      \"properties\": {\n        \"dtype\": \"number\",\n        \"std\": 577,\n        \"min\": 150,\n        \"max\": 7500,\n        \"num_unique_values\": 864,\n        \"samples\": [\n          1014,\n          481,\n          2245\n        ],\n        \"semantic_type\": \"\",\n        \"description\": \"\"\n      }\n    },\n    {\n      \"column\": \"location\",\n      \"properties\": {\n        \"dtype\": \"category\",\n        \"num_unique_values\": 381,\n        \"samples\": [\n          \"Bhelkenagar\",\n          \"Diva\",\n          \"Dighi\"\n        ],\n        \"semantic_type\": \"\",\n        \"description\": \"\"\n      }\n    },\n    {\n      \"column\": \"city\",\n      \"properties\": {\n        \"dtype\": \"category\",\n        \"num_unique_values\": 3,\n        \"samples\": [\n          \"Mumbai\",\n          \"Pune\",\n          \"Hisar\"\n        ],\n        \"semantic_type\": \"\",\n        \"description\": \"\"\n      }\n    },\n    {\n      \"column\": \"numBathrooms\",\n      \"properties\": {\n        \"dtype\": \"number\",\n        \"std\": 0,\n        \"min\": 1,\n        \"max\": 7,\n        \"num_unique_values\": 7,\n        \"samples\": [\n          3,\n          2,\n          6\n        ],\n        \"semantic_type\": \"\",\n        \"description\": \"\"\n      }\n    },\n    {\n      \"column\": \"numBalconies\",\n      \"properties\": {\n        \"dtype\": \"number\",\n        \"std\": 0.6176014201837263,\n        \"min\": 1.0,\n        \"max\": 6.0,\n        \"num_unique_values\": 6,\n        \"samples\": [\n          2.0,\n          1.0,\n          6.0\n        ],\n        \"semantic_type\": \"\",\n        \"description\": \"\"\n      }\n    },\n    {\n      \"column\": \"isNegotiable\",\n      \"properties\": {\n        \"dtype\": \"category\",\n        \"num_unique_values\": 2,\n        \"samples\": [\n          \"Yes\",\n          \"No\"\n        ],\n        \"semantic_type\": \"\",\n        \"description\": \"\"\n      }\n    },\n    {\n      \"column\": \"SecurityDeposit\",\n      \"properties\": {\n        \"dtype\": \"number\",\n        \"std\": 182192,\n        \"min\": 0,\n        \"max\": 6000000,\n        \"num_unique_values\": 114,\n        \"samples\": [\n          21000,\n          200000\n        ],\n        \"semantic_type\": \"\",\n        \"description\": \"\"\n      }\n    },\n    {\n      \"column\": \"Status\",\n      \"properties\": {\n        \"dtype\": \"category\",\n        \"num_unique_values\": 3,\n        \"samples\": [\n          \"Furnished\",\n          \"Semi-Furnished\"\n        ],\n        \"semantic_type\": \"\",\n        \"description\": \"\"\n      }\n    }\n  ]\n}"
            }
          },
          "metadata": {},
          "execution_count": 40
        }
      ]
    },
    {
      "cell_type": "code",
      "source": [
        "from sklearn.compose import ColumnTransformer\n",
        "from sklearn.pipeline import Pipeline\n",
        "from sklearn.preprocessing import OneHotEncoder, OrdinalEncoder\n",
        "from sklearn.linear_model import LinearRegression\n",
        "from sklearn.metrics import r2_score, mean_absolute_error\n",
        "\n",
        "# Step 1: Column Transformer with encoding\n",
        "step1 = ColumnTransformer(transformers=[\n",
        "    ('tnf1', OneHotEncoder(sparse_output=False, categories='auto', handle_unknown='ignore'), [2, 3, 6]),\n",
        "    ('tnf2', OrdinalEncoder(categories=[['1_RK_Studio_Apartment', '1_BHK_Apartment', '1_BHK_Independent_House',\n",
        "                                         '1_BHK_Independent_Floor', '1_BHK_Villa', '2_BHK_Apartment',\n",
        "                                         '2_BHK_Independent_House', '2_BHK_Independent_Floor', '2_BHK_Villa',\n",
        "                                         '3_BHK_Apartment', '3_BHK_Independent_House', '3_BHK_Independent_Floor',\n",
        "                                         '3_BHK_Villa', '4_BHK_Apartment', '4_BHK_Independent_House',\n",
        "                                         '4_BHK_Independent_Floor', '4_BHK_Villa', '5_BHK_Apartment',\n",
        "                                         '5_BHK_Independent_House', '5_BHK_Villa', '6_BHK_Apartment',\n",
        "                                         '6_BHK_Independent_House', '6_BHK_Villa', '6_BHK_penthouse']],\n",
        "                         handle_unknown='use_encoded_value', unknown_value=-1), [0]),\n",
        "    ('tnf3', OrdinalEncoder(categories=[['Unfurnished', 'Semi-Furnished', 'Furnished']],\n",
        "                            handle_unknown='use_encoded_value', unknown_value=-1), [8]),\n",
        "], remainder='passthrough')\n",
        "\n",
        "# Step 2: Use Multiple Linear Regression instead of Gradient Boosting\n",
        "step2 = LinearRegression()\n",
        "# Create pipeline\n",
        "pipe = Pipeline([\n",
        "    ('step1', step1),\n",
        "    ('step2', step2)\n",
        "])\n",
        "\n",
        "# Fit the pipeline to the training data\n",
        "pipe.fit(X_train, y_train)\n",
        "# Make predictions on the test data\n",
        "y_pred = pipe.predict(X_test)\n",
        "# Evaluate the model\n",
        "print('R2 score:', r2_score(y_test, y_pred))\n",
        "print('MAE:', mean_absolute_error(y_test, y_pred))\n"
      ],
      "metadata": {
        "colab": {
          "base_uri": "https://localhost:8080/"
        },
        "id": "_sHfEkrht6tU",
        "outputId": "c9d8010e-791a-4dea-bbe6-3b3005028c73"
      },
      "execution_count": null,
      "outputs": [
        {
          "output_type": "stream",
          "name": "stdout",
          "text": [
            "R2 score: 0.6614131312692343\n",
            "MAE: 17102.42474754782\n"
          ]
        }
      ]
    },
    {
      "cell_type": "code",
      "source": [
        "from sklearn.tree import DecisionTreeRegressor\n",
        "from sklearn.compose import ColumnTransformer\n",
        "from sklearn.pipeline import Pipeline\n",
        "from sklearn.preprocessing import OneHotEncoder, OrdinalEncoder\n",
        "from sklearn.metrics import r2_score, mean_absolute_error\n",
        "\n",
        "# Step 1: Column Transformer with encoding\n",
        "step1 = ColumnTransformer(transformers=[\n",
        "    ('tnf1', OneHotEncoder(sparse_output=False, categories='auto', handle_unknown='ignore'), [2, 3, 6]),\n",
        "    ('tnf2', OrdinalEncoder(categories=[['1_RK_Studio_Apartment', '1_BHK_Apartment', '1_BHK_Independent_House',\n",
        "                                         '1_BHK_Independent_Floor', '1_BHK_Villa', '2_BHK_Apartment',\n",
        "                                         '2_BHK_Independent_House', '2_BHK_Independent_Floor', '2_BHK_Villa',\n",
        "                                         '3_BHK_Apartment', '3_BHK_Independent_House', '3_BHK_Independent_Floor',\n",
        "                                         '3_BHK_Villa', '4_BHK_Apartment', '4_BHK_Independent_House',\n",
        "                                         '4_BHK_Independent_Floor', '4_BHK_Villa', '5_BHK_Apartment',\n",
        "                                         '5_BHK_Independent_House', '5_BHK_Villa', '6_BHK_Apartment',\n",
        "                                         '6_BHK_Independent_House', '6_BHK_Villa', '6_BHK_penthouse']],\n",
        "                         handle_unknown='use_encoded_value', unknown_value=-1), [0]),\n",
        "    ('tnf3', OrdinalEncoder(categories=[['Unfurnished', 'Semi-Furnished', 'Furnished']],\n",
        "                            handle_unknown='use_encoded_value', unknown_value=-1), [8]),\n",
        "], remainder='passthrough')\n",
        "\n",
        "# Step 2: Use Decision Tree Regressor\n",
        "step2 = DecisionTreeRegressor()\n",
        "\n",
        "# Create pipeline\n",
        "pipe = Pipeline([\n",
        "    ('step1', step1),\n",
        "    ('step2', step2)\n",
        "])\n",
        "\n",
        "# Fit the pipeline to the training data\n",
        "pipe.fit(X_train, y_train)\n",
        "\n",
        "# Make predictions on the test data\n",
        "y_pred = pipe.predict(X_test)\n",
        "\n",
        "# Evaluate the model\n",
        "print('R2 score:', r2_score(y_test, y_pred))\n",
        "print('MAE:', mean_absolute_error(y_test, y_pred))\n"
      ],
      "metadata": {
        "colab": {
          "base_uri": "https://localhost:8080/"
        },
        "id": "QYYSLMpuuMps",
        "outputId": "b6a0daeb-2046-4b2f-d97e-7124f60185a8"
      },
      "execution_count": null,
      "outputs": [
        {
          "output_type": "stream",
          "name": "stdout",
          "text": [
            "R2 score: 0.7869902683681171\n",
            "MAE: 9683.418262798956\n"
          ]
        }
      ]
    },
    {
      "cell_type": "code",
      "source": [
        "# Step 1: Column Transformer with encoding\n",
        "step1 = ColumnTransformer(transformers=[\n",
        "    ('tnf1', OneHotEncoder(sparse_output=False, categories='auto', handle_unknown='ignore'), [2, 3, 6]),\n",
        "    ('tnf2', OrdinalEncoder(categories=[['1_RK_Studio_Apartment', '1_BHK_Apartment', '1_BHK_Independent_House',\n",
        "                                         '1_BHK_Independent_Floor', '1_BHK_Villa', '2_BHK_Apartment',\n",
        "                                         '2_BHK_Independent_House', '2_BHK_Independent_Floor', '2_BHK_Villa',\n",
        "                                         '3_BHK_Apartment', '3_BHK_Independent_House', '3_BHK_Independent_Floor',\n",
        "                                         '3_BHK_Villa', '4_BHK_Apartment', '4_BHK_Independent_House',\n",
        "                                         '4_BHK_Independent_Floor', '4_BHK_Villa', '5_BHK_Apartment',\n",
        "                                         '5_BHK_Independent_House', '5_BHK_Villa', '6_BHK_Apartment',\n",
        "                                         '6_BHK_Independent_House', '6_BHK_Villa', '6_BHK_penthouse']],\n",
        "                         handle_unknown='use_encoded_value', unknown_value=-1), [0]),\n",
        "    ('tnf3', OrdinalEncoder(categories=[['Unfurnished', 'Semi-Furnished', 'Furnished']],\n",
        "                            handle_unknown='use_encoded_value', unknown_value=-1), [8]),\n",
        "], remainder='passthrough')\n",
        "# Step 2: Use Random Forest Regressor\n",
        "step2 = RandomForestRegressor(n_estimators=100)\n",
        "# Create pipeline\n",
        "pipe = Pipeline([\n",
        "    ('step1', step1),\n",
        "    ('step2', step2)\n",
        "])\n",
        "# Fit the pipeline to the training data\n",
        "pipe.fit(X_train, y_train)\n",
        "\n",
        "# Make predictions on the test data\n",
        "y_pred = pipe.predict(X_test)\n",
        "\n",
        "# Evaluate the model\n",
        "print('R2 score:', r2_score(y_test, y_pred))\n",
        "print('MAE:', mean_absolute_error(y_test, y_pred))\n"
      ],
      "metadata": {
        "colab": {
          "base_uri": "https://localhost:8080/"
        },
        "id": "YMHT1qyZuVnn",
        "outputId": "167079b8-61c7-4c43-fbf2-b40ede136f0b"
      },
      "execution_count": null,
      "outputs": [
        {
          "output_type": "stream",
          "name": "stdout",
          "text": [
            "R2 score: 0.8260226367050573\n",
            "MAE: 9240.007035678038\n"
          ]
        }
      ]
    },
    {
      "cell_type": "code",
      "source": [
        "from sklearn.svm import SVR\n",
        "from sklearn.compose import ColumnTransformer\n",
        "from sklearn.pipeline import Pipeline\n",
        "from sklearn.preprocessing import OneHotEncoder, OrdinalEncoder, StandardScaler\n",
        "from sklearn.metrics import r2_score, mean_absolute_error\n",
        "# Step 1: Column Transformer with encoding\n",
        "step1 = ColumnTransformer(transformers=[\n",
        "    ('tnf1', OneHotEncoder(sparse_output=False, categories='auto', handle_unknown='ignore'), [2, 3, 6]),\n",
        "    ('tnf2', OrdinalEncoder(categories=[['1_RK_Studio_Apartment', '1_BHK_Apartment', '1_BHK_Independent_House',\n",
        "                                         '1_BHK_Independent_Floor', '1_BHK_Villa', '2_BHK_Apartment',\n",
        "                                         '2_BHK_Independent_House', '2_BHK_Independent_Floor', '2_BHK_Villa',\n",
        "                                         '3_BHK_Apartment', '3_BHK_Independent_House', '3_BHK_Independent_Floor',\n",
        "                                         '3_BHK_Villa', '4_BHK_Apartment', '4_BHK_Independent_House',\n",
        "                                         '4_BHK_Independent_Floor', '4_BHK_Villa', '5_BHK_Apartment',\n",
        "                                         '5_BHK_Independent_House', '5_BHK_Villa', '6_BHK_Apartment',\n",
        "                                         '6_BHK_Independent_House', '6_BHK_Villa', '6_BHK_penthouse']],\n",
        "                         handle_unknown='use_encoded_value', unknown_value=-1), [0]),\n",
        "    ('tnf3', OrdinalEncoder(categories=[['Unfurnished', 'Semi-Furnished', 'Furnished']],\n",
        "                            handle_unknown='use_encoded_value', unknown_value=-1), [8]),\n",
        "], remainder='passthrough')\n",
        "\n",
        "# Step 2: Use StandardScaler to scale features before applying SVR\n",
        "step2_scaler = StandardScaler()\n",
        "\n",
        "# Step 3: Use SVR\n",
        "step3 = SVR(kernel='rbf')  # You can choose different kernels, like 'linear', 'poly', etc.\n",
        "\n",
        "# Create pipeline\n",
        "pipe = Pipeline([\n",
        "    ('step1', step1),\n",
        "    ('step2_scaler', step2_scaler),  # Apply scaling after encoding\n",
        "    ('step3', step3)\n",
        "])\n",
        "\n",
        "# Fit the pipeline to the training data\n",
        "pipe.fit(X_train, y_train)\n",
        "\n",
        "# Make predictions on the test data\n",
        "y_pred = pipe.predict(X_test)\n",
        "\n",
        "# Evaluate the model\n",
        "print('R2 score:', r2_score(y_test, y_pred))\n",
        "print('MAE:', mean_absolute_error(y_test, y_pred))\n"
      ],
      "metadata": {
        "colab": {
          "base_uri": "https://localhost:8080/"
        },
        "id": "QzQSIY-nusW8",
        "outputId": "69a79a6e-8f44-4fee-8ba8-39a36eac054e"
      },
      "execution_count": null,
      "outputs": [
        {
          "output_type": "stream",
          "name": "stdout",
          "text": [
            "R2 score: -0.07539762368515457\n",
            "MAE: 27528.59094449541\n"
          ]
        }
      ]
    },
    {
      "cell_type": "code",
      "source": [
        "\n",
        "\n",
        "# Step 1: Column Transformer with encoding\n",
        "step1 = ColumnTransformer(transformers=[\n",
        "    ('tnf1', OneHotEncoder(sparse_output=False, categories='auto', handle_unknown='ignore'), [2, 3, 6]),\n",
        "    ('tnf2', OrdinalEncoder(categories=[['1_RK_Studio_Apartment', '1_BHK_Apartment', '1_BHK_Independent_House',\n",
        "                                         '1_BHK_Independent_Floor', '1_BHK_Villa', '2_BHK_Apartment',\n",
        "                                         '2_BHK_Independent_House', '2_BHK_Independent_Floor', '2_BHK_Villa',\n",
        "                                         '3_BHK_Apartment', '3_BHK_Independent_House', '3_BHK_Independent_Floor',\n",
        "                                         '3_BHK_Villa', '4_BHK_Apartment', '4_BHK_Independent_House',\n",
        "                                         '4_BHK_Independent_Floor', '4_BHK_Villa', '5_BHK_Apartment',\n",
        "                                         '5_BHK_Independent_House', '5_BHK_Villa', '6_BHK_Apartment',\n",
        "                                         '6_BHK_Independent_House', '6_BHK_Villa', '6_BHK_penthouse']],\n",
        "                         handle_unknown='use_encoded_value', unknown_value=-1), [0]),\n",
        "    ('tnf3', OrdinalEncoder(categories=[['Unfurnished', 'Semi-Furnished', 'Furnished']],\n",
        "                            handle_unknown='use_encoded_value', unknown_value=-1), [8]),\n",
        "], remainder='passthrough')\n",
        "\n",
        "# Step 2: Use AdaBoost Regressor with DecisionTreeRegressor as base estimator\n",
        "step2 = AdaBoostRegressor(base_estimator=DecisionTreeRegressor(), n_estimators=100)\n",
        "\n",
        "# Create pipeline\n",
        "pipe = Pipeline([\n",
        "    ('step1', step1),\n",
        "    ('step2', step2)\n",
        "])\n",
        "# Fit the pipeline to the training data\n",
        "pipe.fit(X_train, y_train)\n",
        "# Make predictions on the test data\n",
        "y_pred = pipe.predict(X_test)\n",
        "# Evaluate the model\n",
        "print('R2 score:', r2_score(y_test, y_pred))\n",
        "print('MAE:', mean_absolute_error(y_test, y_pred))"
      ],
      "metadata": {
        "colab": {
          "base_uri": "https://localhost:8080/"
        },
        "id": "IyGfMBIYvCSQ",
        "outputId": "ed43c0a6-a4c2-48fa-c2f2-71ba53446b5e"
      },
      "execution_count": null,
      "outputs": [
        {
          "output_type": "stream",
          "name": "stderr",
          "text": [
            "/usr/local/lib/python3.10/dist-packages/sklearn/ensemble/_base.py:156: FutureWarning: `base_estimator` was renamed to `estimator` in version 1.2 and will be removed in 1.4.\n",
            "  warnings.warn(\n"
          ]
        },
        {
          "output_type": "stream",
          "name": "stdout",
          "text": [
            "R2 score: 0.792221715454946\n",
            "MAE: 10365.135330877352\n"
          ]
        }
      ]
    },
    {
      "cell_type": "code",
      "source": [
        "step1=ColumnTransformer(transformers=[('tnf1',OneHotEncoder(sparse=False,categories='auto',handle_unknown = 'ignore'),[2,3,6]),\n",
        "('tnf2',OrdinalEncoder(categories = [['1_RK_Studio_Apartment', '1_BHK_Apartment', '1_BHK_Independent_House', '1_BHK_Independent_Floor', '1_BHK_Villa', '2_BHK_Apartment', '2_BHK_Independent_House', '2_BHK_Independent_Floor', '2_BHK_Villa', '3_BHK_Apartment', '3_BHK_Independent_House', '3_BHK_Independent_Floor', '3_BHK_Villa', '4_BHK_Apartment', '4_BHK_Independent_House', '4_BHK_Independent_Floor', '4_BHK_Villa', '5_BHK_Apartment', '5_BHK_Independent_House', '5_BHK_Villa', '6_BHK_Apartment', '6_BHK_Independent_House', '6_BHK_Villa', '6_BHK_penthouse']\n",
        "],handle_unknown='use_encoded_value', unknown_value=-1),[0]),\n",
        "('tnf3',OrdinalEncoder(categories=[['Unfurnished', 'Semi-Furnished', 'Furnished']\n",
        "],handle_unknown='use_encoded_value', unknown_value=-1),[8]),\n",
        "],remainder='passthrough')\n",
        "step2 = GradientBoostingRegressor(n_estimators=500)\n",
        "pipe = Pipeline([\n",
        "('step1',step1),\n",
        "('step2',step2)\n",
        "])\n",
        "pipe.fit(X_train,y_train)\n",
        "y_pred = pipe.predict(X_test)\n",
        "print('R2 score',r2_score(y_test,y_pred))\n",
        "print('MAE',mean_absolute_error(y_test,y_pred))"
      ],
      "metadata": {
        "id": "Gs2h0lPKvd9k",
        "colab": {
          "base_uri": "https://localhost:8080/"
        },
        "outputId": "0ff0a65e-92cb-4814-9f4d-a7ad3aaaf124"
      },
      "execution_count": null,
      "outputs": [
        {
          "output_type": "stream",
          "name": "stderr",
          "text": [
            "/usr/local/lib/python3.10/dist-packages/sklearn/preprocessing/_encoders.py:975: FutureWarning: `sparse` was renamed to `sparse_output` in version 1.2 and will be removed in 1.4. `sparse_output` is ignored unless you leave `sparse` to its default value.\n",
            "  warnings.warn(\n"
          ]
        },
        {
          "output_type": "stream",
          "name": "stdout",
          "text": [
            "R2 score 0.8339732144535235\n",
            "MAE 10506.16642911997\n"
          ]
        }
      ]
    },
    {
      "cell_type": "code",
      "source": [
        "import pickle\n",
        "pickle.dump(finaldf1,open('/content/dataf.pkl','wb'))\n",
        "pickle.dump(pipe,open('/content/pipe1.pkl','wb'))"
      ],
      "metadata": {
        "id": "UgxOyc3dp_xO"
      },
      "execution_count": null,
      "outputs": []
    },
    {
      "cell_type": "code",
      "source": [
        "!pip install pandas==1.5.3"
      ],
      "metadata": {
        "id": "1OJiD13TqCXq",
        "colab": {
          "base_uri": "https://localhost:8080/",
          "height": 493
        },
        "outputId": "fbce1161-5938-4a76-8185-a3b9c8f32863"
      },
      "execution_count": null,
      "outputs": [
        {
          "output_type": "stream",
          "name": "stdout",
          "text": [
            "Collecting pandas==1.5.3\n",
            "  Downloading pandas-1.5.3-cp310-cp310-manylinux_2_17_x86_64.manylinux2014_x86_64.whl.metadata (11 kB)\n",
            "Requirement already satisfied: python-dateutil>=2.8.1 in /usr/local/lib/python3.10/dist-packages (from pandas==1.5.3) (2.8.2)\n",
            "Requirement already satisfied: pytz>=2020.1 in /usr/local/lib/python3.10/dist-packages (from pandas==1.5.3) (2024.2)\n",
            "Requirement already satisfied: numpy>=1.21.0 in /usr/local/lib/python3.10/dist-packages (from pandas==1.5.3) (1.26.4)\n",
            "Requirement already satisfied: six>=1.5 in /usr/local/lib/python3.10/dist-packages (from python-dateutil>=2.8.1->pandas==1.5.3) (1.16.0)\n",
            "Downloading pandas-1.5.3-cp310-cp310-manylinux_2_17_x86_64.manylinux2014_x86_64.whl (12.1 MB)\n",
            "\u001b[2K   \u001b[90m━━━━━━━━━━━━━━━━━━━━━━━━━━━━━━━━━━━━━━━━\u001b[0m \u001b[32m12.1/12.1 MB\u001b[0m \u001b[31m81.6 MB/s\u001b[0m eta \u001b[36m0:00:00\u001b[0m\n",
            "\u001b[?25hInstalling collected packages: pandas\n",
            "  Attempting uninstall: pandas\n",
            "    Found existing installation: pandas 2.1.4\n",
            "    Uninstalling pandas-2.1.4:\n",
            "      Successfully uninstalled pandas-2.1.4\n",
            "\u001b[31mERROR: pip's dependency resolver does not currently take into account all the packages that are installed. This behaviour is the source of the following dependency conflicts.\n",
            "cudf-cu12 24.4.1 requires pandas<2.2.2dev0,>=2.0, but you have pandas 1.5.3 which is incompatible.\n",
            "google-colab 1.0.0 requires pandas==2.1.4, but you have pandas 1.5.3 which is incompatible.\n",
            "mizani 0.11.4 requires pandas>=2.1.0, but you have pandas 1.5.3 which is incompatible.\n",
            "plotnine 0.13.6 requires pandas<3.0.0,>=2.1.0, but you have pandas 1.5.3 which is incompatible.\n",
            "xarray 2024.9.0 requires pandas>=2.1, but you have pandas 1.5.3 which is incompatible.\u001b[0m\u001b[31m\n",
            "\u001b[0mSuccessfully installed pandas-1.5.3\n"
          ]
        },
        {
          "output_type": "display_data",
          "data": {
            "application/vnd.colab-display-data+json": {
              "pip_warning": {
                "packages": [
                  "pandas"
                ]
              },
              "id": "2cdd3e64275e4a098dea27893ef2da7c"
            }
          },
          "metadata": {}
        }
      ]
    },
    {
      "cell_type": "code",
      "source": [
        "!pip install gradio"
      ],
      "metadata": {
        "colab": {
          "base_uri": "https://localhost:8080/"
        },
        "id": "yA10TA8XqFGG",
        "outputId": "cf4652be-40a0-40b7-902b-2cbc9e831cb9"
      },
      "execution_count": null,
      "outputs": [
        {
          "output_type": "stream",
          "name": "stdout",
          "text": [
            "Collecting gradio\n",
            "  Using cached gradio-4.44.0-py3-none-any.whl.metadata (15 kB)\n",
            "Collecting aiofiles<24.0,>=22.0 (from gradio)\n",
            "  Using cached aiofiles-23.2.1-py3-none-any.whl.metadata (9.7 kB)\n",
            "Requirement already satisfied: anyio<5.0,>=3.0 in /usr/local/lib/python3.10/dist-packages (from gradio) (3.7.1)\n",
            "Collecting fastapi<1.0 (from gradio)\n",
            "  Using cached fastapi-0.115.0-py3-none-any.whl.metadata (27 kB)\n",
            "Collecting ffmpy (from gradio)\n",
            "  Using cached ffmpy-0.4.0-py3-none-any.whl.metadata (2.9 kB)\n",
            "Collecting gradio-client==1.3.0 (from gradio)\n",
            "  Using cached gradio_client-1.3.0-py3-none-any.whl.metadata (7.1 kB)\n",
            "Collecting httpx>=0.24.1 (from gradio)\n",
            "  Using cached httpx-0.27.2-py3-none-any.whl.metadata (7.1 kB)\n",
            "Requirement already satisfied: huggingface-hub>=0.19.3 in /usr/local/lib/python3.10/dist-packages (from gradio) (0.24.7)\n",
            "Requirement already satisfied: importlib-resources<7.0,>=1.3 in /usr/local/lib/python3.10/dist-packages (from gradio) (6.4.5)\n",
            "Requirement already satisfied: jinja2<4.0 in /usr/local/lib/python3.10/dist-packages (from gradio) (3.1.4)\n",
            "Requirement already satisfied: markupsafe~=2.0 in /usr/local/lib/python3.10/dist-packages (from gradio) (2.1.5)\n",
            "Requirement already satisfied: matplotlib~=3.0 in /usr/local/lib/python3.10/dist-packages (from gradio) (3.7.1)\n",
            "Requirement already satisfied: numpy<3.0,>=1.0 in /usr/local/lib/python3.10/dist-packages (from gradio) (1.26.4)\n",
            "Collecting orjson~=3.0 (from gradio)\n",
            "  Using cached orjson-3.10.7-cp310-cp310-manylinux_2_17_x86_64.manylinux2014_x86_64.whl.metadata (50 kB)\n",
            "Requirement already satisfied: packaging in /usr/local/lib/python3.10/dist-packages (from gradio) (24.1)\n",
            "Requirement already satisfied: pandas<3.0,>=1.0 in /usr/local/lib/python3.10/dist-packages (from gradio) (1.5.3)\n",
            "Requirement already satisfied: pillow<11.0,>=8.0 in /usr/local/lib/python3.10/dist-packages (from gradio) (10.4.0)\n",
            "Requirement already satisfied: pydantic>=2.0 in /usr/local/lib/python3.10/dist-packages (from gradio) (2.9.2)\n",
            "Requirement already satisfied: pydub in /usr/local/lib/python3.10/dist-packages (from gradio) (0.25.1)\n",
            "Collecting python-multipart>=0.0.9 (from gradio)\n",
            "  Using cached python_multipart-0.0.9-py3-none-any.whl.metadata (2.5 kB)\n",
            "Requirement already satisfied: pyyaml<7.0,>=5.0 in /usr/local/lib/python3.10/dist-packages (from gradio) (6.0.2)\n",
            "Requirement already satisfied: ruff>=0.2.2 in /usr/local/lib/python3.10/dist-packages (from gradio) (0.6.6)\n",
            "Requirement already satisfied: semantic-version~=2.0 in /usr/local/lib/python3.10/dist-packages (from gradio) (2.10.0)\n",
            "Requirement already satisfied: tomlkit==0.12.0 in /usr/local/lib/python3.10/dist-packages (from gradio) (0.12.0)\n",
            "Requirement already satisfied: typer<1.0,>=0.12 in /usr/local/lib/python3.10/dist-packages (from gradio) (0.12.5)\n",
            "Requirement already satisfied: typing-extensions~=4.0 in /usr/local/lib/python3.10/dist-packages (from gradio) (4.12.2)\n",
            "Requirement already satisfied: urllib3~=2.0 in /usr/local/lib/python3.10/dist-packages (from gradio) (2.0.7)\n",
            "Collecting uvicorn>=0.14.0 (from gradio)\n",
            "  Using cached uvicorn-0.30.6-py3-none-any.whl.metadata (6.6 kB)\n",
            "Requirement already satisfied: fsspec in /usr/local/lib/python3.10/dist-packages (from gradio-client==1.3.0->gradio) (2024.6.1)\n",
            "Requirement already satisfied: websockets<13.0,>=10.0 in /usr/local/lib/python3.10/dist-packages (from gradio-client==1.3.0->gradio) (12.0)\n",
            "Requirement already satisfied: idna>=2.8 in /usr/local/lib/python3.10/dist-packages (from anyio<5.0,>=3.0->gradio) (3.10)\n",
            "Requirement already satisfied: sniffio>=1.1 in /usr/local/lib/python3.10/dist-packages (from anyio<5.0,>=3.0->gradio) (1.3.1)\n",
            "Requirement already satisfied: exceptiongroup in /usr/local/lib/python3.10/dist-packages (from anyio<5.0,>=3.0->gradio) (1.2.2)\n",
            "Collecting starlette<0.39.0,>=0.37.2 (from fastapi<1.0->gradio)\n",
            "  Using cached starlette-0.38.5-py3-none-any.whl.metadata (6.0 kB)\n",
            "Requirement already satisfied: certifi in /usr/local/lib/python3.10/dist-packages (from httpx>=0.24.1->gradio) (2024.8.30)\n",
            "Collecting httpcore==1.* (from httpx>=0.24.1->gradio)\n",
            "  Using cached httpcore-1.0.5-py3-none-any.whl.metadata (20 kB)\n",
            "Collecting h11<0.15,>=0.13 (from httpcore==1.*->httpx>=0.24.1->gradio)\n",
            "  Using cached h11-0.14.0-py3-none-any.whl.metadata (8.2 kB)\n",
            "Requirement already satisfied: filelock in /usr/local/lib/python3.10/dist-packages (from huggingface-hub>=0.19.3->gradio) (3.16.1)\n",
            "Requirement already satisfied: requests in /usr/local/lib/python3.10/dist-packages (from huggingface-hub>=0.19.3->gradio) (2.32.3)\n",
            "Requirement already satisfied: tqdm>=4.42.1 in /usr/local/lib/python3.10/dist-packages (from huggingface-hub>=0.19.3->gradio) (4.66.5)\n",
            "Requirement already satisfied: contourpy>=1.0.1 in /usr/local/lib/python3.10/dist-packages (from matplotlib~=3.0->gradio) (1.3.0)\n",
            "Requirement already satisfied: cycler>=0.10 in /usr/local/lib/python3.10/dist-packages (from matplotlib~=3.0->gradio) (0.12.1)\n",
            "Requirement already satisfied: fonttools>=4.22.0 in /usr/local/lib/python3.10/dist-packages (from matplotlib~=3.0->gradio) (4.53.1)\n",
            "Requirement already satisfied: kiwisolver>=1.0.1 in /usr/local/lib/python3.10/dist-packages (from matplotlib~=3.0->gradio) (1.4.7)\n",
            "Requirement already satisfied: pyparsing>=2.3.1 in /usr/local/lib/python3.10/dist-packages (from matplotlib~=3.0->gradio) (3.1.4)\n",
            "Requirement already satisfied: python-dateutil>=2.7 in /usr/local/lib/python3.10/dist-packages (from matplotlib~=3.0->gradio) (2.8.2)\n",
            "Requirement already satisfied: pytz>=2020.1 in /usr/local/lib/python3.10/dist-packages (from pandas<3.0,>=1.0->gradio) (2024.2)\n",
            "Requirement already satisfied: annotated-types>=0.6.0 in /usr/local/lib/python3.10/dist-packages (from pydantic>=2.0->gradio) (0.7.0)\n",
            "Requirement already satisfied: pydantic-core==2.23.4 in /usr/local/lib/python3.10/dist-packages (from pydantic>=2.0->gradio) (2.23.4)\n",
            "Requirement already satisfied: click>=8.0.0 in /usr/local/lib/python3.10/dist-packages (from typer<1.0,>=0.12->gradio) (8.1.7)\n",
            "Requirement already satisfied: shellingham>=1.3.0 in /usr/local/lib/python3.10/dist-packages (from typer<1.0,>=0.12->gradio) (1.5.4)\n",
            "Requirement already satisfied: rich>=10.11.0 in /usr/local/lib/python3.10/dist-packages (from typer<1.0,>=0.12->gradio) (13.8.1)\n",
            "Requirement already satisfied: six>=1.5 in /usr/local/lib/python3.10/dist-packages (from python-dateutil>=2.7->matplotlib~=3.0->gradio) (1.16.0)\n",
            "Requirement already satisfied: markdown-it-py>=2.2.0 in /usr/local/lib/python3.10/dist-packages (from rich>=10.11.0->typer<1.0,>=0.12->gradio) (3.0.0)\n",
            "Requirement already satisfied: pygments<3.0.0,>=2.13.0 in /usr/local/lib/python3.10/dist-packages (from rich>=10.11.0->typer<1.0,>=0.12->gradio) (2.18.0)\n",
            "Requirement already satisfied: charset-normalizer<4,>=2 in /usr/local/lib/python3.10/dist-packages (from requests->huggingface-hub>=0.19.3->gradio) (3.3.2)\n",
            "Requirement already satisfied: mdurl~=0.1 in /usr/local/lib/python3.10/dist-packages (from markdown-it-py>=2.2.0->rich>=10.11.0->typer<1.0,>=0.12->gradio) (0.1.2)\n",
            "Using cached gradio-4.44.0-py3-none-any.whl (18.1 MB)\n",
            "Using cached gradio_client-1.3.0-py3-none-any.whl (318 kB)\n",
            "Using cached aiofiles-23.2.1-py3-none-any.whl (15 kB)\n",
            "Using cached fastapi-0.115.0-py3-none-any.whl (94 kB)\n",
            "Using cached httpx-0.27.2-py3-none-any.whl (76 kB)\n",
            "Using cached httpcore-1.0.5-py3-none-any.whl (77 kB)\n",
            "Using cached orjson-3.10.7-cp310-cp310-manylinux_2_17_x86_64.manylinux2014_x86_64.whl (141 kB)\n",
            "Using cached python_multipart-0.0.9-py3-none-any.whl (22 kB)\n",
            "Using cached uvicorn-0.30.6-py3-none-any.whl (62 kB)\n",
            "Using cached ffmpy-0.4.0-py3-none-any.whl (5.8 kB)\n",
            "Using cached h11-0.14.0-py3-none-any.whl (58 kB)\n",
            "Using cached starlette-0.38.5-py3-none-any.whl (71 kB)\n",
            "Installing collected packages: python-multipart, orjson, h11, ffmpy, aiofiles, uvicorn, starlette, httpcore, httpx, fastapi, gradio-client, gradio\n",
            "Successfully installed aiofiles-23.2.1 fastapi-0.115.0 ffmpy-0.4.0 gradio-4.44.0 gradio-client-1.3.0 h11-0.14.0 httpcore-1.0.5 httpx-0.27.2 orjson-3.10.7 python-multipart-0.0.9 starlette-0.38.5 uvicorn-0.30.6\n"
          ]
        }
      ]
    },
    {
      "cell_type": "code",
      "source": [
        "import gradio as gr\n",
        "import pickle\n",
        "import numpy as np\n",
        "import math\n",
        "# Load your model and data\n",
        "pipe = pickle.load(open('/content/pipe1.pkl', 'rb'))\n",
        "dataf = pickle.load(open('/content/dataf.pkl', 'rb'))\n",
        "def predict_rent_price(house_type, house_size, location, city, numBathrooms,\n",
        "       numBalconies, isNegotiable, SecurityDeposit, Status):\n",
        "    query = np.array([house_type, house_size, location, city, numBathrooms,\n",
        "       numBalconies, isNegotiable, SecurityDeposit, Status])\n",
        "    query = query.reshape(1, 9)\n",
        "    prediction = pipe.predict(query)[0]\n",
        "    return round(prediction)\n",
        "# Define the inputs and outputs for the Gradio interface\n",
        "inputs = [\n",
        "    gr.Dropdown(choices=dataf['house_type'].unique().tolist(), label=\"House Type\"),\n",
        "    gr.Number(label=\"House Size in Sqft\"),\n",
        "    gr.Dropdown(choices=dataf['location'].unique().tolist(), label=\"Location\"),\n",
        "    gr.Dropdown(choices=dataf['city'].unique().tolist(), label=\"City\"),\n",
        "    gr.Number(label=\"Number of Bathrooms\"),\n",
        "    gr.Number(label=\"Number of Balconies\"),\n",
        "\n",
        "    gr.Dropdown(choices=dataf['isNegotiable'].unique().tolist(), label=\"IsNegotiable\"),\n",
        "    gr.Number(label=\"SecurityDeposit\"),\n",
        "    gr.Dropdown(choices=dataf['Status'].unique().tolist(), label=\"Status\"),]\n",
        "outputs = gr.Textbox(label=\"Predicted Price\")\n",
        "# Create and launch the Gradio interface\n",
        "gr.Interface(fn=predict_rent_price, inputs=inputs, outputs=outputs, title=\"Home Rent Prediction \").launch()\n"
      ],
      "metadata": {
        "colab": {
          "base_uri": "https://localhost:8080/",
          "height": 648
        },
        "id": "grPS5du_qJYu",
        "outputId": "5cec893f-2b42-4c38-da32-43ff3bad9c01"
      },
      "execution_count": null,
      "outputs": [
        {
          "output_type": "stream",
          "name": "stdout",
          "text": [
            "Setting queue=True in a Colab notebook requires sharing enabled. Setting `share=True` (you can turn this off by setting `share=False` in `launch()` explicitly).\n",
            "\n",
            "Colab notebook detected. To show errors in colab notebook, set debug=True in launch()\n",
            "Running on public URL: https://4e957e4e4e2d67325a.gradio.live\n",
            "\n",
            "This share link expires in 72 hours. For free permanent hosting and GPU upgrades, run `gradio deploy` from Terminal to deploy to Spaces (https://huggingface.co/spaces)\n"
          ]
        },
        {
          "output_type": "display_data",
          "data": {
            "text/plain": [
              "<IPython.core.display.HTML object>"
            ],
            "text/html": [
              "<div><iframe src=\"https://4e957e4e4e2d67325a.gradio.live\" width=\"100%\" height=\"500\" allow=\"autoplay; camera; microphone; clipboard-read; clipboard-write;\" frameborder=\"0\" allowfullscreen></iframe></div>"
            ]
          },
          "metadata": {}
        },
        {
          "output_type": "execute_result",
          "data": {
            "text/plain": []
          },
          "metadata": {},
          "execution_count": 3
        }
      ]
    },
    {
      "cell_type": "code",
      "source": [
        "finaldf1.groupby('isNegotiable')['price'].mean().plot(kind='bar')"
      ],
      "metadata": {
        "id": "gniodAdsaOfg",
        "colab": {
          "base_uri": "https://localhost:8080/",
          "height": 144
        },
        "outputId": "7e851ac7-3609-4769-9ead-de84b15b1c8f"
      },
      "execution_count": null,
      "outputs": [
        {
          "output_type": "error",
          "ename": "NameError",
          "evalue": "name 'finaldf1' is not defined",
          "traceback": [
            "\u001b[0;31m---------------------------------------------------------------------------\u001b[0m",
            "\u001b[0;31mNameError\u001b[0m                                 Traceback (most recent call last)",
            "\u001b[0;32m<ipython-input-4-16e286631dab>\u001b[0m in \u001b[0;36m<cell line: 1>\u001b[0;34m()\u001b[0m\n\u001b[0;32m----> 1\u001b[0;31m \u001b[0mfinaldf1\u001b[0m\u001b[0;34m.\u001b[0m\u001b[0mgroupby\u001b[0m\u001b[0;34m(\u001b[0m\u001b[0;34m'isNegotiable'\u001b[0m\u001b[0;34m)\u001b[0m\u001b[0;34m[\u001b[0m\u001b[0;34m'price'\u001b[0m\u001b[0;34m]\u001b[0m\u001b[0;34m.\u001b[0m\u001b[0mmean\u001b[0m\u001b[0;34m(\u001b[0m\u001b[0;34m)\u001b[0m\u001b[0;34m.\u001b[0m\u001b[0mplot\u001b[0m\u001b[0;34m(\u001b[0m\u001b[0mkind\u001b[0m\u001b[0;34m=\u001b[0m\u001b[0;34m'bar'\u001b[0m\u001b[0;34m)\u001b[0m\u001b[0;34m\u001b[0m\u001b[0;34m\u001b[0m\u001b[0m\n\u001b[0m",
            "\u001b[0;31mNameError\u001b[0m: name 'finaldf1' is not defined"
          ]
        }
      ]
    },
    {
      "cell_type": "code",
      "source": [
        "#negotiable, price  t- test"
      ],
      "metadata": {
        "id": "dCNtKrMkRniq"
      },
      "execution_count": null,
      "outputs": []
    },
    {
      "cell_type": "code",
      "source": [
        "finaldf1"
      ],
      "metadata": {
        "id": "hHPoEJxFQxNI"
      },
      "execution_count": null,
      "outputs": []
    },
    {
      "cell_type": "code",
      "source": [],
      "metadata": {
        "id": "fZoG3G2jR383"
      },
      "execution_count": null,
      "outputs": []
    }
  ]
}